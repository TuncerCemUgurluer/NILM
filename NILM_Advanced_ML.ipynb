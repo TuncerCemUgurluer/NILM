{
  "nbformat": 4,
  "nbformat_minor": 0,
  "metadata": {
    "colab": {
      "provenance": [],
      "machine_shape": "hm",
      "include_colab_link": true
    },
    "kernelspec": {
      "name": "python3",
      "display_name": "Python 3"
    },
    "language_info": {
      "name": "python"
    },
    "gpuClass": "standard"
  },
  "cells": [
    {
      "cell_type": "markdown",
      "metadata": {
        "id": "view-in-github",
        "colab_type": "text"
      },
      "source": [
        "<a href=\"https://colab.research.google.com/github/TuncerCemUgurluer/NILM/blob/main/NILM_Advanced_ML.ipynb\" target=\"_parent\"><img src=\"https://colab.research.google.com/assets/colab-badge.svg\" alt=\"Open In Colab\"/></a>"
      ]
    },
    {
      "cell_type": "code",
      "source": [
        "!pip install opendatasets\n",
        "import opendatasets as od\n",
        "dataset_url = 'https://www.kaggle.com/competitions/esda-nilm-2022/data?select=vw_train.csv'\n",
        "od.download(dataset_url)"
      ],
      "metadata": {
        "colab": {
          "base_uri": "https://localhost:8080/"
        },
        "id": "H5NNpP0jDdyW",
        "outputId": "7d6e69e1-2858-491c-9ebd-ccd06a0f6677"
      },
      "execution_count": null,
      "outputs": [
        {
          "output_type": "stream",
          "name": "stdout",
          "text": [
            "Looking in indexes: https://pypi.org/simple, https://us-python.pkg.dev/colab-wheels/public/simple/\n",
            "Collecting opendatasets\n",
            "  Downloading opendatasets-0.1.22-py3-none-any.whl (15 kB)\n",
            "Requirement already satisfied: click in /usr/local/lib/python3.8/dist-packages (from opendatasets) (7.1.2)\n",
            "Requirement already satisfied: kaggle in /usr/local/lib/python3.8/dist-packages (from opendatasets) (1.5.12)\n",
            "Requirement already satisfied: tqdm in /usr/local/lib/python3.8/dist-packages (from opendatasets) (4.64.1)\n",
            "Requirement already satisfied: urllib3 in /usr/local/lib/python3.8/dist-packages (from kaggle->opendatasets) (1.24.3)\n",
            "Requirement already satisfied: requests in /usr/local/lib/python3.8/dist-packages (from kaggle->opendatasets) (2.25.1)\n",
            "Requirement already satisfied: python-slugify in /usr/local/lib/python3.8/dist-packages (from kaggle->opendatasets) (7.0.0)\n",
            "Requirement already satisfied: six>=1.10 in /usr/local/lib/python3.8/dist-packages (from kaggle->opendatasets) (1.15.0)\n",
            "Requirement already satisfied: certifi in /usr/local/lib/python3.8/dist-packages (from kaggle->opendatasets) (2022.12.7)\n",
            "Requirement already satisfied: python-dateutil in /usr/local/lib/python3.8/dist-packages (from kaggle->opendatasets) (2.8.2)\n",
            "Requirement already satisfied: text-unidecode>=1.3 in /usr/local/lib/python3.8/dist-packages (from python-slugify->kaggle->opendatasets) (1.3)\n",
            "Requirement already satisfied: chardet<5,>=3.0.2 in /usr/local/lib/python3.8/dist-packages (from requests->kaggle->opendatasets) (4.0.0)\n",
            "Requirement already satisfied: idna<3,>=2.5 in /usr/local/lib/python3.8/dist-packages (from requests->kaggle->opendatasets) (2.10)\n",
            "Installing collected packages: opendatasets\n",
            "Successfully installed opendatasets-0.1.22\n",
            "Downloading esda-nilm-2022.zip to ./esda-nilm-2022\n"
          ]
        },
        {
          "output_type": "stream",
          "name": "stderr",
          "text": [
            "100%|██████████| 4.54M/4.54M [00:00<00:00, 103MB/s]"
          ]
        },
        {
          "output_type": "stream",
          "name": "stdout",
          "text": [
            "\n",
            "Extracting archive ./esda-nilm-2022/esda-nilm-2022.zip to ./esda-nilm-2022\n"
          ]
        },
        {
          "output_type": "stream",
          "name": "stderr",
          "text": [
            "\n"
          ]
        }
      ]
    },
    {
      "cell_type": "code",
      "source": [
        "import numpy as np\n",
        "import pandas as pd\n",
        "import matplotlib.pyplot as plt\n",
        "import seaborn as sns\n",
        "sns.set()"
      ],
      "metadata": {
        "id": "U7QyrR79Dl0T"
      },
      "execution_count": null,
      "outputs": []
    },
    {
      "cell_type": "code",
      "source": [
        "df=pd.read_csv(\"/content/esda-nilm-2022/vw_train.csv\")"
      ],
      "metadata": {
        "id": "kqYJmlpBDw6d"
      },
      "execution_count": null,
      "outputs": []
    },
    {
      "cell_type": "code",
      "source": [
        "df.head()"
      ],
      "metadata": {
        "colab": {
          "base_uri": "https://localhost:8080/",
          "height": 280
        },
        "id": "kLbqny0GgTZG",
        "outputId": "4f9cc98b-9dfc-449f-9ada-beb28588c1ed"
      },
      "execution_count": null,
      "outputs": [
        {
          "output_type": "execute_result",
          "data": {
            "text/plain": [
              "   Unnamed: 0        id  activePower  activePowerDelta  reactivePower  \\\n",
              "0           2  74589012           80                 1            -38   \n",
              "1           3  74588101           77                32            -37   \n",
              "2           4  74587582           43              -100            -22   \n",
              "3           5  74587236          143                -3            143   \n",
              "4           6  74586372          146                -7            142   \n",
              "\n",
              "   apparentPower  current  voltage  phase  hertz  ...  harmonicDelta2  \\\n",
              "0            126    0.562  224.258  -25.3     60  ...               8   \n",
              "1            124    0.552  225.127  -25.6     60  ...               0   \n",
              "2             65    0.290  224.258  -27.0     60  ...               0   \n",
              "3            204    0.914  223.389   44.6     60  ...              26   \n",
              "4            206    0.924  223.389   43.9     60  ...              18   \n",
              "\n",
              "   harmonicDelta3  harmonicDelta4  harmonicDelta5  harmonicDelta6  \\\n",
              "0              41               8              56              18   \n",
              "1             184               0             133               0   \n",
              "2              90               0              29               0   \n",
              "3              16               1              31               6   \n",
              "4              33               9              47               0   \n",
              "\n",
              "   harmonicDelta7  harmonicDelta8  harmonicDelta9             timestamp  \\\n",
              "0              64              14              85  2018-01-21T23:55:28Z   \n",
              "1              77               0              62  2018-01-21T23:52:46Z   \n",
              "2              14               0               4  2018-01-21T23:51:03Z   \n",
              "3              39               3              41  2018-01-21T23:49:59Z   \n",
              "4              36               3              42  2018-01-21T23:47:19Z   \n",
              "\n",
              "   appliances  \n",
              "0     +fridge  \n",
              "1     +fridge  \n",
              "2     +fridge  \n",
              "3     +fridge  \n",
              "4     +fridge  \n",
              "\n",
              "[5 rows x 31 columns]"
            ],
            "text/html": [
              "\n",
              "  <div id=\"df-df6951cf-cfb0-4079-bf2b-9b0bb51c5766\">\n",
              "    <div class=\"colab-df-container\">\n",
              "      <div>\n",
              "<style scoped>\n",
              "    .dataframe tbody tr th:only-of-type {\n",
              "        vertical-align: middle;\n",
              "    }\n",
              "\n",
              "    .dataframe tbody tr th {\n",
              "        vertical-align: top;\n",
              "    }\n",
              "\n",
              "    .dataframe thead th {\n",
              "        text-align: right;\n",
              "    }\n",
              "</style>\n",
              "<table border=\"1\" class=\"dataframe\">\n",
              "  <thead>\n",
              "    <tr style=\"text-align: right;\">\n",
              "      <th></th>\n",
              "      <th>Unnamed: 0</th>\n",
              "      <th>id</th>\n",
              "      <th>activePower</th>\n",
              "      <th>activePowerDelta</th>\n",
              "      <th>reactivePower</th>\n",
              "      <th>apparentPower</th>\n",
              "      <th>current</th>\n",
              "      <th>voltage</th>\n",
              "      <th>phase</th>\n",
              "      <th>hertz</th>\n",
              "      <th>...</th>\n",
              "      <th>harmonicDelta2</th>\n",
              "      <th>harmonicDelta3</th>\n",
              "      <th>harmonicDelta4</th>\n",
              "      <th>harmonicDelta5</th>\n",
              "      <th>harmonicDelta6</th>\n",
              "      <th>harmonicDelta7</th>\n",
              "      <th>harmonicDelta8</th>\n",
              "      <th>harmonicDelta9</th>\n",
              "      <th>timestamp</th>\n",
              "      <th>appliances</th>\n",
              "    </tr>\n",
              "  </thead>\n",
              "  <tbody>\n",
              "    <tr>\n",
              "      <th>0</th>\n",
              "      <td>2</td>\n",
              "      <td>74589012</td>\n",
              "      <td>80</td>\n",
              "      <td>1</td>\n",
              "      <td>-38</td>\n",
              "      <td>126</td>\n",
              "      <td>0.562</td>\n",
              "      <td>224.258</td>\n",
              "      <td>-25.3</td>\n",
              "      <td>60</td>\n",
              "      <td>...</td>\n",
              "      <td>8</td>\n",
              "      <td>41</td>\n",
              "      <td>8</td>\n",
              "      <td>56</td>\n",
              "      <td>18</td>\n",
              "      <td>64</td>\n",
              "      <td>14</td>\n",
              "      <td>85</td>\n",
              "      <td>2018-01-21T23:55:28Z</td>\n",
              "      <td>+fridge</td>\n",
              "    </tr>\n",
              "    <tr>\n",
              "      <th>1</th>\n",
              "      <td>3</td>\n",
              "      <td>74588101</td>\n",
              "      <td>77</td>\n",
              "      <td>32</td>\n",
              "      <td>-37</td>\n",
              "      <td>124</td>\n",
              "      <td>0.552</td>\n",
              "      <td>225.127</td>\n",
              "      <td>-25.6</td>\n",
              "      <td>60</td>\n",
              "      <td>...</td>\n",
              "      <td>0</td>\n",
              "      <td>184</td>\n",
              "      <td>0</td>\n",
              "      <td>133</td>\n",
              "      <td>0</td>\n",
              "      <td>77</td>\n",
              "      <td>0</td>\n",
              "      <td>62</td>\n",
              "      <td>2018-01-21T23:52:46Z</td>\n",
              "      <td>+fridge</td>\n",
              "    </tr>\n",
              "    <tr>\n",
              "      <th>2</th>\n",
              "      <td>4</td>\n",
              "      <td>74587582</td>\n",
              "      <td>43</td>\n",
              "      <td>-100</td>\n",
              "      <td>-22</td>\n",
              "      <td>65</td>\n",
              "      <td>0.290</td>\n",
              "      <td>224.258</td>\n",
              "      <td>-27.0</td>\n",
              "      <td>60</td>\n",
              "      <td>...</td>\n",
              "      <td>0</td>\n",
              "      <td>90</td>\n",
              "      <td>0</td>\n",
              "      <td>29</td>\n",
              "      <td>0</td>\n",
              "      <td>14</td>\n",
              "      <td>0</td>\n",
              "      <td>4</td>\n",
              "      <td>2018-01-21T23:51:03Z</td>\n",
              "      <td>+fridge</td>\n",
              "    </tr>\n",
              "    <tr>\n",
              "      <th>3</th>\n",
              "      <td>5</td>\n",
              "      <td>74587236</td>\n",
              "      <td>143</td>\n",
              "      <td>-3</td>\n",
              "      <td>143</td>\n",
              "      <td>204</td>\n",
              "      <td>0.914</td>\n",
              "      <td>223.389</td>\n",
              "      <td>44.6</td>\n",
              "      <td>60</td>\n",
              "      <td>...</td>\n",
              "      <td>26</td>\n",
              "      <td>16</td>\n",
              "      <td>1</td>\n",
              "      <td>31</td>\n",
              "      <td>6</td>\n",
              "      <td>39</td>\n",
              "      <td>3</td>\n",
              "      <td>41</td>\n",
              "      <td>2018-01-21T23:49:59Z</td>\n",
              "      <td>+fridge</td>\n",
              "    </tr>\n",
              "    <tr>\n",
              "      <th>4</th>\n",
              "      <td>6</td>\n",
              "      <td>74586372</td>\n",
              "      <td>146</td>\n",
              "      <td>-7</td>\n",
              "      <td>142</td>\n",
              "      <td>206</td>\n",
              "      <td>0.924</td>\n",
              "      <td>223.389</td>\n",
              "      <td>43.9</td>\n",
              "      <td>60</td>\n",
              "      <td>...</td>\n",
              "      <td>18</td>\n",
              "      <td>33</td>\n",
              "      <td>9</td>\n",
              "      <td>47</td>\n",
              "      <td>0</td>\n",
              "      <td>36</td>\n",
              "      <td>3</td>\n",
              "      <td>42</td>\n",
              "      <td>2018-01-21T23:47:19Z</td>\n",
              "      <td>+fridge</td>\n",
              "    </tr>\n",
              "  </tbody>\n",
              "</table>\n",
              "<p>5 rows × 31 columns</p>\n",
              "</div>\n",
              "      <button class=\"colab-df-convert\" onclick=\"convertToInteractive('df-df6951cf-cfb0-4079-bf2b-9b0bb51c5766')\"\n",
              "              title=\"Convert this dataframe to an interactive table.\"\n",
              "              style=\"display:none;\">\n",
              "        \n",
              "  <svg xmlns=\"http://www.w3.org/2000/svg\" height=\"24px\"viewBox=\"0 0 24 24\"\n",
              "       width=\"24px\">\n",
              "    <path d=\"M0 0h24v24H0V0z\" fill=\"none\"/>\n",
              "    <path d=\"M18.56 5.44l.94 2.06.94-2.06 2.06-.94-2.06-.94-.94-2.06-.94 2.06-2.06.94zm-11 1L8.5 8.5l.94-2.06 2.06-.94-2.06-.94L8.5 2.5l-.94 2.06-2.06.94zm10 10l.94 2.06.94-2.06 2.06-.94-2.06-.94-.94-2.06-.94 2.06-2.06.94z\"/><path d=\"M17.41 7.96l-1.37-1.37c-.4-.4-.92-.59-1.43-.59-.52 0-1.04.2-1.43.59L10.3 9.45l-7.72 7.72c-.78.78-.78 2.05 0 2.83L4 21.41c.39.39.9.59 1.41.59.51 0 1.02-.2 1.41-.59l7.78-7.78 2.81-2.81c.8-.78.8-2.07 0-2.86zM5.41 20L4 18.59l7.72-7.72 1.47 1.35L5.41 20z\"/>\n",
              "  </svg>\n",
              "      </button>\n",
              "      \n",
              "  <style>\n",
              "    .colab-df-container {\n",
              "      display:flex;\n",
              "      flex-wrap:wrap;\n",
              "      gap: 12px;\n",
              "    }\n",
              "\n",
              "    .colab-df-convert {\n",
              "      background-color: #E8F0FE;\n",
              "      border: none;\n",
              "      border-radius: 50%;\n",
              "      cursor: pointer;\n",
              "      display: none;\n",
              "      fill: #1967D2;\n",
              "      height: 32px;\n",
              "      padding: 0 0 0 0;\n",
              "      width: 32px;\n",
              "    }\n",
              "\n",
              "    .colab-df-convert:hover {\n",
              "      background-color: #E2EBFA;\n",
              "      box-shadow: 0px 1px 2px rgba(60, 64, 67, 0.3), 0px 1px 3px 1px rgba(60, 64, 67, 0.15);\n",
              "      fill: #174EA6;\n",
              "    }\n",
              "\n",
              "    [theme=dark] .colab-df-convert {\n",
              "      background-color: #3B4455;\n",
              "      fill: #D2E3FC;\n",
              "    }\n",
              "\n",
              "    [theme=dark] .colab-df-convert:hover {\n",
              "      background-color: #434B5C;\n",
              "      box-shadow: 0px 1px 3px 1px rgba(0, 0, 0, 0.15);\n",
              "      filter: drop-shadow(0px 1px 2px rgba(0, 0, 0, 0.3));\n",
              "      fill: #FFFFFF;\n",
              "    }\n",
              "  </style>\n",
              "\n",
              "      <script>\n",
              "        const buttonEl =\n",
              "          document.querySelector('#df-df6951cf-cfb0-4079-bf2b-9b0bb51c5766 button.colab-df-convert');\n",
              "        buttonEl.style.display =\n",
              "          google.colab.kernel.accessAllowed ? 'block' : 'none';\n",
              "\n",
              "        async function convertToInteractive(key) {\n",
              "          const element = document.querySelector('#df-df6951cf-cfb0-4079-bf2b-9b0bb51c5766');\n",
              "          const dataTable =\n",
              "            await google.colab.kernel.invokeFunction('convertToInteractive',\n",
              "                                                     [key], {});\n",
              "          if (!dataTable) return;\n",
              "\n",
              "          const docLinkHtml = 'Like what you see? Visit the ' +\n",
              "            '<a target=\"_blank\" href=https://colab.research.google.com/notebooks/data_table.ipynb>data table notebook</a>'\n",
              "            + ' to learn more about interactive tables.';\n",
              "          element.innerHTML = '';\n",
              "          dataTable['output_type'] = 'display_data';\n",
              "          await google.colab.output.renderOutput(dataTable, element);\n",
              "          const docLink = document.createElement('div');\n",
              "          docLink.innerHTML = docLinkHtml;\n",
              "          element.appendChild(docLink);\n",
              "        }\n",
              "      </script>\n",
              "    </div>\n",
              "  </div>\n",
              "  "
            ]
          },
          "metadata": {},
          "execution_count": 5
        }
      ]
    },
    {
      "cell_type": "code",
      "source": [
        "df.tail()"
      ],
      "metadata": {
        "colab": {
          "base_uri": "https://localhost:8080/",
          "height": 366
        },
        "id": "Y1xxZkRGh3Th",
        "outputId": "6f536c83-e106-4a3b-c31e-2fcdffb3fbe0"
      },
      "execution_count": null,
      "outputs": [
        {
          "output_type": "execute_result",
          "data": {
            "text/plain": [
              "       Unnamed: 0        id  activePower  activePowerDelta  reactivePower  \\\n",
              "67259       84073  41699819           83                -4            -12   \n",
              "67260       84074  41698933           87                -6             -9   \n",
              "67261       84076  41696980           82                -9            -12   \n",
              "67262       84078  41695072           83               -86            -11   \n",
              "67263       84080  41693237          184                -2            157   \n",
              "\n",
              "       apparentPower  current  voltage  phase  hertz  ...  harmonicDelta2  \\\n",
              "67259             91    0.407  225.127   -8.4     60  ...               4   \n",
              "67260             93    0.419  223.389   -6.3     60  ...              24   \n",
              "67261             91    0.415  220.781   -8.7     60  ...               9   \n",
              "67262             92    0.422  218.174   -7.7     60  ...               6   \n",
              "67263            244    1.084  225.997   40.4     60  ...              31   \n",
              "\n",
              "       harmonicDelta3  harmonicDelta4  harmonicDelta5  harmonicDelta6  \\\n",
              "67259              31               3              21               1   \n",
              "67260              16              16              23               9   \n",
              "67261              67              13              24               6   \n",
              "67262              67               0              18               0   \n",
              "67263              23               6              24               3   \n",
              "\n",
              "       harmonicDelta7  harmonicDelta8  harmonicDelta9             timestamp  \\\n",
              "67259              31               1              21  2017-12-01T00:19:24Z   \n",
              "67260              21              13              16  2017-12-01T00:16:44Z   \n",
              "67261              18               4              13  2017-12-01T00:11:24Z   \n",
              "67262              21               0               3  2017-12-01T00:06:02Z   \n",
              "67263              16               4              18  2017-12-01T00:00:57Z   \n",
              "\n",
              "       appliances  \n",
              "67259     +fridge  \n",
              "67260     +fridge  \n",
              "67261     +fridge  \n",
              "67262     +fridge  \n",
              "67263     +fridge  \n",
              "\n",
              "[5 rows x 31 columns]"
            ],
            "text/html": [
              "\n",
              "  <div id=\"df-82350471-03d6-42ce-8b2b-30a1fa6c015f\">\n",
              "    <div class=\"colab-df-container\">\n",
              "      <div>\n",
              "<style scoped>\n",
              "    .dataframe tbody tr th:only-of-type {\n",
              "        vertical-align: middle;\n",
              "    }\n",
              "\n",
              "    .dataframe tbody tr th {\n",
              "        vertical-align: top;\n",
              "    }\n",
              "\n",
              "    .dataframe thead th {\n",
              "        text-align: right;\n",
              "    }\n",
              "</style>\n",
              "<table border=\"1\" class=\"dataframe\">\n",
              "  <thead>\n",
              "    <tr style=\"text-align: right;\">\n",
              "      <th></th>\n",
              "      <th>Unnamed: 0</th>\n",
              "      <th>id</th>\n",
              "      <th>activePower</th>\n",
              "      <th>activePowerDelta</th>\n",
              "      <th>reactivePower</th>\n",
              "      <th>apparentPower</th>\n",
              "      <th>current</th>\n",
              "      <th>voltage</th>\n",
              "      <th>phase</th>\n",
              "      <th>hertz</th>\n",
              "      <th>...</th>\n",
              "      <th>harmonicDelta2</th>\n",
              "      <th>harmonicDelta3</th>\n",
              "      <th>harmonicDelta4</th>\n",
              "      <th>harmonicDelta5</th>\n",
              "      <th>harmonicDelta6</th>\n",
              "      <th>harmonicDelta7</th>\n",
              "      <th>harmonicDelta8</th>\n",
              "      <th>harmonicDelta9</th>\n",
              "      <th>timestamp</th>\n",
              "      <th>appliances</th>\n",
              "    </tr>\n",
              "  </thead>\n",
              "  <tbody>\n",
              "    <tr>\n",
              "      <th>67259</th>\n",
              "      <td>84073</td>\n",
              "      <td>41699819</td>\n",
              "      <td>83</td>\n",
              "      <td>-4</td>\n",
              "      <td>-12</td>\n",
              "      <td>91</td>\n",
              "      <td>0.407</td>\n",
              "      <td>225.127</td>\n",
              "      <td>-8.4</td>\n",
              "      <td>60</td>\n",
              "      <td>...</td>\n",
              "      <td>4</td>\n",
              "      <td>31</td>\n",
              "      <td>3</td>\n",
              "      <td>21</td>\n",
              "      <td>1</td>\n",
              "      <td>31</td>\n",
              "      <td>1</td>\n",
              "      <td>21</td>\n",
              "      <td>2017-12-01T00:19:24Z</td>\n",
              "      <td>+fridge</td>\n",
              "    </tr>\n",
              "    <tr>\n",
              "      <th>67260</th>\n",
              "      <td>84074</td>\n",
              "      <td>41698933</td>\n",
              "      <td>87</td>\n",
              "      <td>-6</td>\n",
              "      <td>-9</td>\n",
              "      <td>93</td>\n",
              "      <td>0.419</td>\n",
              "      <td>223.389</td>\n",
              "      <td>-6.3</td>\n",
              "      <td>60</td>\n",
              "      <td>...</td>\n",
              "      <td>24</td>\n",
              "      <td>16</td>\n",
              "      <td>16</td>\n",
              "      <td>23</td>\n",
              "      <td>9</td>\n",
              "      <td>21</td>\n",
              "      <td>13</td>\n",
              "      <td>16</td>\n",
              "      <td>2017-12-01T00:16:44Z</td>\n",
              "      <td>+fridge</td>\n",
              "    </tr>\n",
              "    <tr>\n",
              "      <th>67261</th>\n",
              "      <td>84076</td>\n",
              "      <td>41696980</td>\n",
              "      <td>82</td>\n",
              "      <td>-9</td>\n",
              "      <td>-12</td>\n",
              "      <td>91</td>\n",
              "      <td>0.415</td>\n",
              "      <td>220.781</td>\n",
              "      <td>-8.7</td>\n",
              "      <td>60</td>\n",
              "      <td>...</td>\n",
              "      <td>9</td>\n",
              "      <td>67</td>\n",
              "      <td>13</td>\n",
              "      <td>24</td>\n",
              "      <td>6</td>\n",
              "      <td>18</td>\n",
              "      <td>4</td>\n",
              "      <td>13</td>\n",
              "      <td>2017-12-01T00:11:24Z</td>\n",
              "      <td>+fridge</td>\n",
              "    </tr>\n",
              "    <tr>\n",
              "      <th>67262</th>\n",
              "      <td>84078</td>\n",
              "      <td>41695072</td>\n",
              "      <td>83</td>\n",
              "      <td>-86</td>\n",
              "      <td>-11</td>\n",
              "      <td>92</td>\n",
              "      <td>0.422</td>\n",
              "      <td>218.174</td>\n",
              "      <td>-7.7</td>\n",
              "      <td>60</td>\n",
              "      <td>...</td>\n",
              "      <td>6</td>\n",
              "      <td>67</td>\n",
              "      <td>0</td>\n",
              "      <td>18</td>\n",
              "      <td>0</td>\n",
              "      <td>21</td>\n",
              "      <td>0</td>\n",
              "      <td>3</td>\n",
              "      <td>2017-12-01T00:06:02Z</td>\n",
              "      <td>+fridge</td>\n",
              "    </tr>\n",
              "    <tr>\n",
              "      <th>67263</th>\n",
              "      <td>84080</td>\n",
              "      <td>41693237</td>\n",
              "      <td>184</td>\n",
              "      <td>-2</td>\n",
              "      <td>157</td>\n",
              "      <td>244</td>\n",
              "      <td>1.084</td>\n",
              "      <td>225.997</td>\n",
              "      <td>40.4</td>\n",
              "      <td>60</td>\n",
              "      <td>...</td>\n",
              "      <td>31</td>\n",
              "      <td>23</td>\n",
              "      <td>6</td>\n",
              "      <td>24</td>\n",
              "      <td>3</td>\n",
              "      <td>16</td>\n",
              "      <td>4</td>\n",
              "      <td>18</td>\n",
              "      <td>2017-12-01T00:00:57Z</td>\n",
              "      <td>+fridge</td>\n",
              "    </tr>\n",
              "  </tbody>\n",
              "</table>\n",
              "<p>5 rows × 31 columns</p>\n",
              "</div>\n",
              "      <button class=\"colab-df-convert\" onclick=\"convertToInteractive('df-82350471-03d6-42ce-8b2b-30a1fa6c015f')\"\n",
              "              title=\"Convert this dataframe to an interactive table.\"\n",
              "              style=\"display:none;\">\n",
              "        \n",
              "  <svg xmlns=\"http://www.w3.org/2000/svg\" height=\"24px\"viewBox=\"0 0 24 24\"\n",
              "       width=\"24px\">\n",
              "    <path d=\"M0 0h24v24H0V0z\" fill=\"none\"/>\n",
              "    <path d=\"M18.56 5.44l.94 2.06.94-2.06 2.06-.94-2.06-.94-.94-2.06-.94 2.06-2.06.94zm-11 1L8.5 8.5l.94-2.06 2.06-.94-2.06-.94L8.5 2.5l-.94 2.06-2.06.94zm10 10l.94 2.06.94-2.06 2.06-.94-2.06-.94-.94-2.06-.94 2.06-2.06.94z\"/><path d=\"M17.41 7.96l-1.37-1.37c-.4-.4-.92-.59-1.43-.59-.52 0-1.04.2-1.43.59L10.3 9.45l-7.72 7.72c-.78.78-.78 2.05 0 2.83L4 21.41c.39.39.9.59 1.41.59.51 0 1.02-.2 1.41-.59l7.78-7.78 2.81-2.81c.8-.78.8-2.07 0-2.86zM5.41 20L4 18.59l7.72-7.72 1.47 1.35L5.41 20z\"/>\n",
              "  </svg>\n",
              "      </button>\n",
              "      \n",
              "  <style>\n",
              "    .colab-df-container {\n",
              "      display:flex;\n",
              "      flex-wrap:wrap;\n",
              "      gap: 12px;\n",
              "    }\n",
              "\n",
              "    .colab-df-convert {\n",
              "      background-color: #E8F0FE;\n",
              "      border: none;\n",
              "      border-radius: 50%;\n",
              "      cursor: pointer;\n",
              "      display: none;\n",
              "      fill: #1967D2;\n",
              "      height: 32px;\n",
              "      padding: 0 0 0 0;\n",
              "      width: 32px;\n",
              "    }\n",
              "\n",
              "    .colab-df-convert:hover {\n",
              "      background-color: #E2EBFA;\n",
              "      box-shadow: 0px 1px 2px rgba(60, 64, 67, 0.3), 0px 1px 3px 1px rgba(60, 64, 67, 0.15);\n",
              "      fill: #174EA6;\n",
              "    }\n",
              "\n",
              "    [theme=dark] .colab-df-convert {\n",
              "      background-color: #3B4455;\n",
              "      fill: #D2E3FC;\n",
              "    }\n",
              "\n",
              "    [theme=dark] .colab-df-convert:hover {\n",
              "      background-color: #434B5C;\n",
              "      box-shadow: 0px 1px 3px 1px rgba(0, 0, 0, 0.15);\n",
              "      filter: drop-shadow(0px 1px 2px rgba(0, 0, 0, 0.3));\n",
              "      fill: #FFFFFF;\n",
              "    }\n",
              "  </style>\n",
              "\n",
              "      <script>\n",
              "        const buttonEl =\n",
              "          document.querySelector('#df-82350471-03d6-42ce-8b2b-30a1fa6c015f button.colab-df-convert');\n",
              "        buttonEl.style.display =\n",
              "          google.colab.kernel.accessAllowed ? 'block' : 'none';\n",
              "\n",
              "        async function convertToInteractive(key) {\n",
              "          const element = document.querySelector('#df-82350471-03d6-42ce-8b2b-30a1fa6c015f');\n",
              "          const dataTable =\n",
              "            await google.colab.kernel.invokeFunction('convertToInteractive',\n",
              "                                                     [key], {});\n",
              "          if (!dataTable) return;\n",
              "\n",
              "          const docLinkHtml = 'Like what you see? Visit the ' +\n",
              "            '<a target=\"_blank\" href=https://colab.research.google.com/notebooks/data_table.ipynb>data table notebook</a>'\n",
              "            + ' to learn more about interactive tables.';\n",
              "          element.innerHTML = '';\n",
              "          dataTable['output_type'] = 'display_data';\n",
              "          await google.colab.output.renderOutput(dataTable, element);\n",
              "          const docLink = document.createElement('div');\n",
              "          docLink.innerHTML = docLinkHtml;\n",
              "          element.appendChild(docLink);\n",
              "        }\n",
              "      </script>\n",
              "    </div>\n",
              "  </div>\n",
              "  "
            ]
          },
          "metadata": {},
          "execution_count": 6
        }
      ]
    },
    {
      "cell_type": "code",
      "source": [
        "df=df.drop(\"id\",axis=1)"
      ],
      "metadata": {
        "id": "KXk6ooI8gWSL"
      },
      "execution_count": null,
      "outputs": []
    },
    {
      "cell_type": "code",
      "source": [
        "df=df.drop(\"Unnamed: 0\",axis=1)"
      ],
      "metadata": {
        "id": "Cy8y4AaogZHv"
      },
      "execution_count": null,
      "outputs": []
    },
    {
      "cell_type": "code",
      "source": [
        "df=df.drop(\"timestamp\",axis=1)"
      ],
      "metadata": {
        "id": "fajPlkNFpQwn"
      },
      "execution_count": null,
      "outputs": []
    },
    {
      "cell_type": "code",
      "source": [
        "df.head()"
      ],
      "metadata": {
        "colab": {
          "base_uri": "https://localhost:8080/",
          "height": 236
        },
        "id": "gyFo9NiggeJg",
        "outputId": "3d7a4bdf-5fb2-4cf7-be7c-a5d8c87e9265"
      },
      "execution_count": null,
      "outputs": [
        {
          "output_type": "execute_result",
          "data": {
            "text/plain": [
              "   activePower  activePowerDelta  reactivePower  apparentPower  current  \\\n",
              "0           80                 1            -38            126    0.562   \n",
              "1           77                32            -37            124    0.552   \n",
              "2           43              -100            -22             65    0.290   \n",
              "3          143                -3            143            204    0.914   \n",
              "4          146                -7            142            206    0.924   \n",
              "\n",
              "   voltage  phase  hertz  transient1  transient2  ...  harmonicDelta1  \\\n",
              "0  224.258  -25.3     60       0.562       0.562  ...              21   \n",
              "1  225.127  -25.6     60       0.590       0.584  ...             235   \n",
              "2  224.258  -27.0     60       0.287       0.290  ...            1183   \n",
              "3  223.389   44.6     60       0.914       0.914  ...              82   \n",
              "4  223.389   43.9     60       0.924       0.924  ...             128   \n",
              "\n",
              "   harmonicDelta2  harmonicDelta3  harmonicDelta4  harmonicDelta5  \\\n",
              "0               8              41               8              56   \n",
              "1               0             184               0             133   \n",
              "2               0              90               0              29   \n",
              "3              26              16               1              31   \n",
              "4              18              33               9              47   \n",
              "\n",
              "   harmonicDelta6  harmonicDelta7  harmonicDelta8  harmonicDelta9  appliances  \n",
              "0              18              64              14              85     +fridge  \n",
              "1               0              77               0              62     +fridge  \n",
              "2               0              14               0               4     +fridge  \n",
              "3               6              39               3              41     +fridge  \n",
              "4               0              36               3              42     +fridge  \n",
              "\n",
              "[5 rows x 28 columns]"
            ],
            "text/html": [
              "\n",
              "  <div id=\"df-be25197a-f9b2-4e47-8b70-c5744706771c\">\n",
              "    <div class=\"colab-df-container\">\n",
              "      <div>\n",
              "<style scoped>\n",
              "    .dataframe tbody tr th:only-of-type {\n",
              "        vertical-align: middle;\n",
              "    }\n",
              "\n",
              "    .dataframe tbody tr th {\n",
              "        vertical-align: top;\n",
              "    }\n",
              "\n",
              "    .dataframe thead th {\n",
              "        text-align: right;\n",
              "    }\n",
              "</style>\n",
              "<table border=\"1\" class=\"dataframe\">\n",
              "  <thead>\n",
              "    <tr style=\"text-align: right;\">\n",
              "      <th></th>\n",
              "      <th>activePower</th>\n",
              "      <th>activePowerDelta</th>\n",
              "      <th>reactivePower</th>\n",
              "      <th>apparentPower</th>\n",
              "      <th>current</th>\n",
              "      <th>voltage</th>\n",
              "      <th>phase</th>\n",
              "      <th>hertz</th>\n",
              "      <th>transient1</th>\n",
              "      <th>transient2</th>\n",
              "      <th>...</th>\n",
              "      <th>harmonicDelta1</th>\n",
              "      <th>harmonicDelta2</th>\n",
              "      <th>harmonicDelta3</th>\n",
              "      <th>harmonicDelta4</th>\n",
              "      <th>harmonicDelta5</th>\n",
              "      <th>harmonicDelta6</th>\n",
              "      <th>harmonicDelta7</th>\n",
              "      <th>harmonicDelta8</th>\n",
              "      <th>harmonicDelta9</th>\n",
              "      <th>appliances</th>\n",
              "    </tr>\n",
              "  </thead>\n",
              "  <tbody>\n",
              "    <tr>\n",
              "      <th>0</th>\n",
              "      <td>80</td>\n",
              "      <td>1</td>\n",
              "      <td>-38</td>\n",
              "      <td>126</td>\n",
              "      <td>0.562</td>\n",
              "      <td>224.258</td>\n",
              "      <td>-25.3</td>\n",
              "      <td>60</td>\n",
              "      <td>0.562</td>\n",
              "      <td>0.562</td>\n",
              "      <td>...</td>\n",
              "      <td>21</td>\n",
              "      <td>8</td>\n",
              "      <td>41</td>\n",
              "      <td>8</td>\n",
              "      <td>56</td>\n",
              "      <td>18</td>\n",
              "      <td>64</td>\n",
              "      <td>14</td>\n",
              "      <td>85</td>\n",
              "      <td>+fridge</td>\n",
              "    </tr>\n",
              "    <tr>\n",
              "      <th>1</th>\n",
              "      <td>77</td>\n",
              "      <td>32</td>\n",
              "      <td>-37</td>\n",
              "      <td>124</td>\n",
              "      <td>0.552</td>\n",
              "      <td>225.127</td>\n",
              "      <td>-25.6</td>\n",
              "      <td>60</td>\n",
              "      <td>0.590</td>\n",
              "      <td>0.584</td>\n",
              "      <td>...</td>\n",
              "      <td>235</td>\n",
              "      <td>0</td>\n",
              "      <td>184</td>\n",
              "      <td>0</td>\n",
              "      <td>133</td>\n",
              "      <td>0</td>\n",
              "      <td>77</td>\n",
              "      <td>0</td>\n",
              "      <td>62</td>\n",
              "      <td>+fridge</td>\n",
              "    </tr>\n",
              "    <tr>\n",
              "      <th>2</th>\n",
              "      <td>43</td>\n",
              "      <td>-100</td>\n",
              "      <td>-22</td>\n",
              "      <td>65</td>\n",
              "      <td>0.290</td>\n",
              "      <td>224.258</td>\n",
              "      <td>-27.0</td>\n",
              "      <td>60</td>\n",
              "      <td>0.287</td>\n",
              "      <td>0.290</td>\n",
              "      <td>...</td>\n",
              "      <td>1183</td>\n",
              "      <td>0</td>\n",
              "      <td>90</td>\n",
              "      <td>0</td>\n",
              "      <td>29</td>\n",
              "      <td>0</td>\n",
              "      <td>14</td>\n",
              "      <td>0</td>\n",
              "      <td>4</td>\n",
              "      <td>+fridge</td>\n",
              "    </tr>\n",
              "    <tr>\n",
              "      <th>3</th>\n",
              "      <td>143</td>\n",
              "      <td>-3</td>\n",
              "      <td>143</td>\n",
              "      <td>204</td>\n",
              "      <td>0.914</td>\n",
              "      <td>223.389</td>\n",
              "      <td>44.6</td>\n",
              "      <td>60</td>\n",
              "      <td>0.914</td>\n",
              "      <td>0.914</td>\n",
              "      <td>...</td>\n",
              "      <td>82</td>\n",
              "      <td>26</td>\n",
              "      <td>16</td>\n",
              "      <td>1</td>\n",
              "      <td>31</td>\n",
              "      <td>6</td>\n",
              "      <td>39</td>\n",
              "      <td>3</td>\n",
              "      <td>41</td>\n",
              "      <td>+fridge</td>\n",
              "    </tr>\n",
              "    <tr>\n",
              "      <th>4</th>\n",
              "      <td>146</td>\n",
              "      <td>-7</td>\n",
              "      <td>142</td>\n",
              "      <td>206</td>\n",
              "      <td>0.924</td>\n",
              "      <td>223.389</td>\n",
              "      <td>43.9</td>\n",
              "      <td>60</td>\n",
              "      <td>0.924</td>\n",
              "      <td>0.924</td>\n",
              "      <td>...</td>\n",
              "      <td>128</td>\n",
              "      <td>18</td>\n",
              "      <td>33</td>\n",
              "      <td>9</td>\n",
              "      <td>47</td>\n",
              "      <td>0</td>\n",
              "      <td>36</td>\n",
              "      <td>3</td>\n",
              "      <td>42</td>\n",
              "      <td>+fridge</td>\n",
              "    </tr>\n",
              "  </tbody>\n",
              "</table>\n",
              "<p>5 rows × 28 columns</p>\n",
              "</div>\n",
              "      <button class=\"colab-df-convert\" onclick=\"convertToInteractive('df-be25197a-f9b2-4e47-8b70-c5744706771c')\"\n",
              "              title=\"Convert this dataframe to an interactive table.\"\n",
              "              style=\"display:none;\">\n",
              "        \n",
              "  <svg xmlns=\"http://www.w3.org/2000/svg\" height=\"24px\"viewBox=\"0 0 24 24\"\n",
              "       width=\"24px\">\n",
              "    <path d=\"M0 0h24v24H0V0z\" fill=\"none\"/>\n",
              "    <path d=\"M18.56 5.44l.94 2.06.94-2.06 2.06-.94-2.06-.94-.94-2.06-.94 2.06-2.06.94zm-11 1L8.5 8.5l.94-2.06 2.06-.94-2.06-.94L8.5 2.5l-.94 2.06-2.06.94zm10 10l.94 2.06.94-2.06 2.06-.94-2.06-.94-.94-2.06-.94 2.06-2.06.94z\"/><path d=\"M17.41 7.96l-1.37-1.37c-.4-.4-.92-.59-1.43-.59-.52 0-1.04.2-1.43.59L10.3 9.45l-7.72 7.72c-.78.78-.78 2.05 0 2.83L4 21.41c.39.39.9.59 1.41.59.51 0 1.02-.2 1.41-.59l7.78-7.78 2.81-2.81c.8-.78.8-2.07 0-2.86zM5.41 20L4 18.59l7.72-7.72 1.47 1.35L5.41 20z\"/>\n",
              "  </svg>\n",
              "      </button>\n",
              "      \n",
              "  <style>\n",
              "    .colab-df-container {\n",
              "      display:flex;\n",
              "      flex-wrap:wrap;\n",
              "      gap: 12px;\n",
              "    }\n",
              "\n",
              "    .colab-df-convert {\n",
              "      background-color: #E8F0FE;\n",
              "      border: none;\n",
              "      border-radius: 50%;\n",
              "      cursor: pointer;\n",
              "      display: none;\n",
              "      fill: #1967D2;\n",
              "      height: 32px;\n",
              "      padding: 0 0 0 0;\n",
              "      width: 32px;\n",
              "    }\n",
              "\n",
              "    .colab-df-convert:hover {\n",
              "      background-color: #E2EBFA;\n",
              "      box-shadow: 0px 1px 2px rgba(60, 64, 67, 0.3), 0px 1px 3px 1px rgba(60, 64, 67, 0.15);\n",
              "      fill: #174EA6;\n",
              "    }\n",
              "\n",
              "    [theme=dark] .colab-df-convert {\n",
              "      background-color: #3B4455;\n",
              "      fill: #D2E3FC;\n",
              "    }\n",
              "\n",
              "    [theme=dark] .colab-df-convert:hover {\n",
              "      background-color: #434B5C;\n",
              "      box-shadow: 0px 1px 3px 1px rgba(0, 0, 0, 0.15);\n",
              "      filter: drop-shadow(0px 1px 2px rgba(0, 0, 0, 0.3));\n",
              "      fill: #FFFFFF;\n",
              "    }\n",
              "  </style>\n",
              "\n",
              "      <script>\n",
              "        const buttonEl =\n",
              "          document.querySelector('#df-be25197a-f9b2-4e47-8b70-c5744706771c button.colab-df-convert');\n",
              "        buttonEl.style.display =\n",
              "          google.colab.kernel.accessAllowed ? 'block' : 'none';\n",
              "\n",
              "        async function convertToInteractive(key) {\n",
              "          const element = document.querySelector('#df-be25197a-f9b2-4e47-8b70-c5744706771c');\n",
              "          const dataTable =\n",
              "            await google.colab.kernel.invokeFunction('convertToInteractive',\n",
              "                                                     [key], {});\n",
              "          if (!dataTable) return;\n",
              "\n",
              "          const docLinkHtml = 'Like what you see? Visit the ' +\n",
              "            '<a target=\"_blank\" href=https://colab.research.google.com/notebooks/data_table.ipynb>data table notebook</a>'\n",
              "            + ' to learn more about interactive tables.';\n",
              "          element.innerHTML = '';\n",
              "          dataTable['output_type'] = 'display_data';\n",
              "          await google.colab.output.renderOutput(dataTable, element);\n",
              "          const docLink = document.createElement('div');\n",
              "          docLink.innerHTML = docLinkHtml;\n",
              "          element.appendChild(docLink);\n",
              "        }\n",
              "      </script>\n",
              "    </div>\n",
              "  </div>\n",
              "  "
            ]
          },
          "metadata": {},
          "execution_count": 11
        }
      ]
    },
    {
      "cell_type": "code",
      "source": [
        "df.isna().sum()"
      ],
      "metadata": {
        "colab": {
          "base_uri": "https://localhost:8080/"
        },
        "id": "QMlO54GzTsdS",
        "outputId": "eae19e98-a659-4b2f-9158-9f10919ab352"
      },
      "execution_count": null,
      "outputs": [
        {
          "output_type": "execute_result",
          "data": {
            "text/plain": [
              "activePower          0\n",
              "activePowerDelta     0\n",
              "reactivePower        0\n",
              "apparentPower        0\n",
              "current              0\n",
              "voltage              0\n",
              "phase                0\n",
              "hertz                0\n",
              "transient1           0\n",
              "transient2           0\n",
              "transient3           0\n",
              "transient4           0\n",
              "transient5           0\n",
              "transient6           0\n",
              "transient7           0\n",
              "transient8           0\n",
              "transient9           0\n",
              "transient10          0\n",
              "harmonicDelta1       0\n",
              "harmonicDelta2       0\n",
              "harmonicDelta3       0\n",
              "harmonicDelta4       0\n",
              "harmonicDelta5       0\n",
              "harmonicDelta6       0\n",
              "harmonicDelta7       0\n",
              "harmonicDelta8       0\n",
              "harmonicDelta9       0\n",
              "appliances          20\n",
              "dtype: int64"
            ]
          },
          "metadata": {},
          "execution_count": 13
        }
      ]
    },
    {
      "cell_type": "code",
      "source": [
        "df=df.dropna()"
      ],
      "metadata": {
        "id": "sfvAPbkRgOTo"
      },
      "execution_count": null,
      "outputs": []
    },
    {
      "cell_type": "code",
      "source": [
        "\n",
        "df.info()"
      ],
      "metadata": {
        "colab": {
          "base_uri": "https://localhost:8080/"
        },
        "id": "VXfX77Z6gzGX",
        "outputId": "ca82dfe8-5d38-4174-c548-61bd70603a8e"
      },
      "execution_count": null,
      "outputs": [
        {
          "output_type": "stream",
          "name": "stdout",
          "text": [
            "<class 'pandas.core.frame.DataFrame'>\n",
            "Int64Index: 67244 entries, 0 to 67263\n",
            "Data columns (total 28 columns):\n",
            " #   Column            Non-Null Count  Dtype  \n",
            "---  ------            --------------  -----  \n",
            " 0   activePower       67244 non-null  int64  \n",
            " 1   activePowerDelta  67244 non-null  int64  \n",
            " 2   reactivePower     67244 non-null  int64  \n",
            " 3   apparentPower     67244 non-null  int64  \n",
            " 4   current           67244 non-null  float64\n",
            " 5   voltage           67244 non-null  float64\n",
            " 6   phase             67244 non-null  float64\n",
            " 7   hertz             67244 non-null  int64  \n",
            " 8   transient1        67244 non-null  float64\n",
            " 9   transient2        67244 non-null  float64\n",
            " 10  transient3        67244 non-null  float64\n",
            " 11  transient4        67244 non-null  float64\n",
            " 12  transient5        67244 non-null  float64\n",
            " 13  transient6        67244 non-null  float64\n",
            " 14  transient7        67244 non-null  float64\n",
            " 15  transient8        67244 non-null  float64\n",
            " 16  transient9        67244 non-null  float64\n",
            " 17  transient10       67244 non-null  float64\n",
            " 18  harmonicDelta1    67244 non-null  int64  \n",
            " 19  harmonicDelta2    67244 non-null  int64  \n",
            " 20  harmonicDelta3    67244 non-null  int64  \n",
            " 21  harmonicDelta4    67244 non-null  int64  \n",
            " 22  harmonicDelta5    67244 non-null  int64  \n",
            " 23  harmonicDelta6    67244 non-null  int64  \n",
            " 24  harmonicDelta7    67244 non-null  int64  \n",
            " 25  harmonicDelta8    67244 non-null  int64  \n",
            " 26  harmonicDelta9    67244 non-null  int64  \n",
            " 27  appliances        67244 non-null  object \n",
            "dtypes: float64(13), int64(14), object(1)\n",
            "memory usage: 14.9+ MB\n"
          ]
        }
      ]
    },
    {
      "cell_type": "code",
      "source": [
        "df.describe().transpose()"
      ],
      "metadata": {
        "id": "1Pf5CAqqty_L",
        "colab": {
          "base_uri": "https://localhost:8080/",
          "height": 896
        },
        "outputId": "9b688811-a025-44fc-c39b-2d56693cc709"
      },
      "execution_count": null,
      "outputs": [
        {
          "output_type": "execute_result",
          "data": {
            "text/plain": [
              "                    count         mean          std       min        25%  \\\n",
              "activePower       67244.0   545.198218   803.513376     7.000  156.00000   \n",
              "activePowerDelta  67244.0     0.242892   469.719603 -7040.000  -58.00000   \n",
              "reactivePower     67244.0   113.640920   232.262382  -137.000  -10.00000   \n",
              "apparentPower     67244.0   599.894489   849.370157    25.000  205.00000   \n",
              "current           67244.0     2.716426     3.943970     0.112    0.91975   \n",
              "voltage           67244.0   223.468194     4.052908   129.513  221.65100   \n",
              "phase             67244.0    13.102269    22.450285   -69.600   -2.40000   \n",
              "hertz             67244.0    60.000000     0.000000    60.000   60.00000   \n",
              "transient1        67244.0     2.974480     4.174698     0.112    0.92500   \n",
              "transient2        67244.0     2.935277     4.126431     0.112    0.91700   \n",
              "transient3        67244.0     2.928359     4.125327     0.110    0.91400   \n",
              "transient4        67244.0     2.928401     4.121730     0.110    0.91500   \n",
              "transient5        67244.0     2.934695     4.125344     0.112    0.91900   \n",
              "transient6        67244.0     2.938392     4.127302     0.036    0.92000   \n",
              "transient7        67244.0     2.936826     4.118414     0.112    0.92350   \n",
              "transient8        67244.0     2.992915    16.045597     0.031    0.92500   \n",
              "transient9        67244.0     2.943738     7.239281     0.107    0.93000   \n",
              "transient10       67244.0     3.071007    33.178035     0.107    0.93300   \n",
              "harmonicDelta1    67244.0  1223.054533  2973.648605     0.000  193.00000   \n",
              "harmonicDelta2    67244.0    49.145054   172.362255     0.000    8.00000   \n",
              "harmonicDelta3    67244.0   425.634451   935.096358     0.000   51.00000   \n",
              "harmonicDelta4    67244.0    14.789676    59.139063     0.000    1.00000   \n",
              "harmonicDelta5    67244.0   247.043647   489.635334     0.000   42.00000   \n",
              "harmonicDelta6    67244.0    11.125959    55.617658     0.000    1.00000   \n",
              "harmonicDelta7    67244.0   160.194753   326.099619     0.000   29.00000   \n",
              "harmonicDelta8    67244.0     8.990170    50.970289     0.000    0.00000   \n",
              "harmonicDelta9    67244.0    88.669517   223.266514     0.000   23.00000   \n",
              "\n",
              "                      50%       75%        max  \n",
              "activePower       232.000  369.0000   8804.000  \n",
              "activePowerDelta   -1.000   74.0000   7013.000  \n",
              "reactivePower     125.000  154.0000   2596.000  \n",
              "apparentPower     281.000  436.0000   9071.000  \n",
              "current             1.258    1.9510     42.251  \n",
              "voltage           223.389  225.9970    238.166  \n",
              "phase              12.600   31.6000     72.000  \n",
              "hertz              60.000   60.0000     60.000  \n",
              "transient1          1.295    2.1510     52.750  \n",
              "transient2          1.287    2.1490     41.702  \n",
              "transient3          1.283    2.1465     53.427  \n",
              "transient4          1.285    2.1400     41.941  \n",
              "transient5          1.288    2.1380     41.931  \n",
              "transient6          1.288    2.1400     42.066  \n",
              "transient7          1.293    2.1350     41.901  \n",
              "transient8          1.298    2.1400   4025.160  \n",
              "transient9          1.305    2.1330   1553.578  \n",
              "transient10         1.306    2.1310   7511.981  \n",
              "harmonicDelta1    508.000  839.0000  45247.000  \n",
              "harmonicDelta2     18.000   29.0000   3390.000  \n",
              "harmonicDelta3    252.000  565.0000  20567.000  \n",
              "harmonicDelta4      6.000   11.0000   2001.000  \n",
              "harmonicDelta5    174.000  343.0000  11203.000  \n",
              "harmonicDelta6      4.000    9.0000   2298.000  \n",
              "harmonicDelta7    120.000  209.0000   7306.000  \n",
              "harmonicDelta8      3.000    6.0000   2113.000  \n",
              "harmonicDelta9     56.000   99.0000   4811.000  "
            ],
            "text/html": [
              "\n",
              "  <div id=\"df-d10da452-8503-4b9c-9a82-c6a663e556be\">\n",
              "    <div class=\"colab-df-container\">\n",
              "      <div>\n",
              "<style scoped>\n",
              "    .dataframe tbody tr th:only-of-type {\n",
              "        vertical-align: middle;\n",
              "    }\n",
              "\n",
              "    .dataframe tbody tr th {\n",
              "        vertical-align: top;\n",
              "    }\n",
              "\n",
              "    .dataframe thead th {\n",
              "        text-align: right;\n",
              "    }\n",
              "</style>\n",
              "<table border=\"1\" class=\"dataframe\">\n",
              "  <thead>\n",
              "    <tr style=\"text-align: right;\">\n",
              "      <th></th>\n",
              "      <th>count</th>\n",
              "      <th>mean</th>\n",
              "      <th>std</th>\n",
              "      <th>min</th>\n",
              "      <th>25%</th>\n",
              "      <th>50%</th>\n",
              "      <th>75%</th>\n",
              "      <th>max</th>\n",
              "    </tr>\n",
              "  </thead>\n",
              "  <tbody>\n",
              "    <tr>\n",
              "      <th>activePower</th>\n",
              "      <td>67244.0</td>\n",
              "      <td>545.198218</td>\n",
              "      <td>803.513376</td>\n",
              "      <td>7.000</td>\n",
              "      <td>156.00000</td>\n",
              "      <td>232.000</td>\n",
              "      <td>369.0000</td>\n",
              "      <td>8804.000</td>\n",
              "    </tr>\n",
              "    <tr>\n",
              "      <th>activePowerDelta</th>\n",
              "      <td>67244.0</td>\n",
              "      <td>0.242892</td>\n",
              "      <td>469.719603</td>\n",
              "      <td>-7040.000</td>\n",
              "      <td>-58.00000</td>\n",
              "      <td>-1.000</td>\n",
              "      <td>74.0000</td>\n",
              "      <td>7013.000</td>\n",
              "    </tr>\n",
              "    <tr>\n",
              "      <th>reactivePower</th>\n",
              "      <td>67244.0</td>\n",
              "      <td>113.640920</td>\n",
              "      <td>232.262382</td>\n",
              "      <td>-137.000</td>\n",
              "      <td>-10.00000</td>\n",
              "      <td>125.000</td>\n",
              "      <td>154.0000</td>\n",
              "      <td>2596.000</td>\n",
              "    </tr>\n",
              "    <tr>\n",
              "      <th>apparentPower</th>\n",
              "      <td>67244.0</td>\n",
              "      <td>599.894489</td>\n",
              "      <td>849.370157</td>\n",
              "      <td>25.000</td>\n",
              "      <td>205.00000</td>\n",
              "      <td>281.000</td>\n",
              "      <td>436.0000</td>\n",
              "      <td>9071.000</td>\n",
              "    </tr>\n",
              "    <tr>\n",
              "      <th>current</th>\n",
              "      <td>67244.0</td>\n",
              "      <td>2.716426</td>\n",
              "      <td>3.943970</td>\n",
              "      <td>0.112</td>\n",
              "      <td>0.91975</td>\n",
              "      <td>1.258</td>\n",
              "      <td>1.9510</td>\n",
              "      <td>42.251</td>\n",
              "    </tr>\n",
              "    <tr>\n",
              "      <th>voltage</th>\n",
              "      <td>67244.0</td>\n",
              "      <td>223.468194</td>\n",
              "      <td>4.052908</td>\n",
              "      <td>129.513</td>\n",
              "      <td>221.65100</td>\n",
              "      <td>223.389</td>\n",
              "      <td>225.9970</td>\n",
              "      <td>238.166</td>\n",
              "    </tr>\n",
              "    <tr>\n",
              "      <th>phase</th>\n",
              "      <td>67244.0</td>\n",
              "      <td>13.102269</td>\n",
              "      <td>22.450285</td>\n",
              "      <td>-69.600</td>\n",
              "      <td>-2.40000</td>\n",
              "      <td>12.600</td>\n",
              "      <td>31.6000</td>\n",
              "      <td>72.000</td>\n",
              "    </tr>\n",
              "    <tr>\n",
              "      <th>hertz</th>\n",
              "      <td>67244.0</td>\n",
              "      <td>60.000000</td>\n",
              "      <td>0.000000</td>\n",
              "      <td>60.000</td>\n",
              "      <td>60.00000</td>\n",
              "      <td>60.000</td>\n",
              "      <td>60.0000</td>\n",
              "      <td>60.000</td>\n",
              "    </tr>\n",
              "    <tr>\n",
              "      <th>transient1</th>\n",
              "      <td>67244.0</td>\n",
              "      <td>2.974480</td>\n",
              "      <td>4.174698</td>\n",
              "      <td>0.112</td>\n",
              "      <td>0.92500</td>\n",
              "      <td>1.295</td>\n",
              "      <td>2.1510</td>\n",
              "      <td>52.750</td>\n",
              "    </tr>\n",
              "    <tr>\n",
              "      <th>transient2</th>\n",
              "      <td>67244.0</td>\n",
              "      <td>2.935277</td>\n",
              "      <td>4.126431</td>\n",
              "      <td>0.112</td>\n",
              "      <td>0.91700</td>\n",
              "      <td>1.287</td>\n",
              "      <td>2.1490</td>\n",
              "      <td>41.702</td>\n",
              "    </tr>\n",
              "    <tr>\n",
              "      <th>transient3</th>\n",
              "      <td>67244.0</td>\n",
              "      <td>2.928359</td>\n",
              "      <td>4.125327</td>\n",
              "      <td>0.110</td>\n",
              "      <td>0.91400</td>\n",
              "      <td>1.283</td>\n",
              "      <td>2.1465</td>\n",
              "      <td>53.427</td>\n",
              "    </tr>\n",
              "    <tr>\n",
              "      <th>transient4</th>\n",
              "      <td>67244.0</td>\n",
              "      <td>2.928401</td>\n",
              "      <td>4.121730</td>\n",
              "      <td>0.110</td>\n",
              "      <td>0.91500</td>\n",
              "      <td>1.285</td>\n",
              "      <td>2.1400</td>\n",
              "      <td>41.941</td>\n",
              "    </tr>\n",
              "    <tr>\n",
              "      <th>transient5</th>\n",
              "      <td>67244.0</td>\n",
              "      <td>2.934695</td>\n",
              "      <td>4.125344</td>\n",
              "      <td>0.112</td>\n",
              "      <td>0.91900</td>\n",
              "      <td>1.288</td>\n",
              "      <td>2.1380</td>\n",
              "      <td>41.931</td>\n",
              "    </tr>\n",
              "    <tr>\n",
              "      <th>transient6</th>\n",
              "      <td>67244.0</td>\n",
              "      <td>2.938392</td>\n",
              "      <td>4.127302</td>\n",
              "      <td>0.036</td>\n",
              "      <td>0.92000</td>\n",
              "      <td>1.288</td>\n",
              "      <td>2.1400</td>\n",
              "      <td>42.066</td>\n",
              "    </tr>\n",
              "    <tr>\n",
              "      <th>transient7</th>\n",
              "      <td>67244.0</td>\n",
              "      <td>2.936826</td>\n",
              "      <td>4.118414</td>\n",
              "      <td>0.112</td>\n",
              "      <td>0.92350</td>\n",
              "      <td>1.293</td>\n",
              "      <td>2.1350</td>\n",
              "      <td>41.901</td>\n",
              "    </tr>\n",
              "    <tr>\n",
              "      <th>transient8</th>\n",
              "      <td>67244.0</td>\n",
              "      <td>2.992915</td>\n",
              "      <td>16.045597</td>\n",
              "      <td>0.031</td>\n",
              "      <td>0.92500</td>\n",
              "      <td>1.298</td>\n",
              "      <td>2.1400</td>\n",
              "      <td>4025.160</td>\n",
              "    </tr>\n",
              "    <tr>\n",
              "      <th>transient9</th>\n",
              "      <td>67244.0</td>\n",
              "      <td>2.943738</td>\n",
              "      <td>7.239281</td>\n",
              "      <td>0.107</td>\n",
              "      <td>0.93000</td>\n",
              "      <td>1.305</td>\n",
              "      <td>2.1330</td>\n",
              "      <td>1553.578</td>\n",
              "    </tr>\n",
              "    <tr>\n",
              "      <th>transient10</th>\n",
              "      <td>67244.0</td>\n",
              "      <td>3.071007</td>\n",
              "      <td>33.178035</td>\n",
              "      <td>0.107</td>\n",
              "      <td>0.93300</td>\n",
              "      <td>1.306</td>\n",
              "      <td>2.1310</td>\n",
              "      <td>7511.981</td>\n",
              "    </tr>\n",
              "    <tr>\n",
              "      <th>harmonicDelta1</th>\n",
              "      <td>67244.0</td>\n",
              "      <td>1223.054533</td>\n",
              "      <td>2973.648605</td>\n",
              "      <td>0.000</td>\n",
              "      <td>193.00000</td>\n",
              "      <td>508.000</td>\n",
              "      <td>839.0000</td>\n",
              "      <td>45247.000</td>\n",
              "    </tr>\n",
              "    <tr>\n",
              "      <th>harmonicDelta2</th>\n",
              "      <td>67244.0</td>\n",
              "      <td>49.145054</td>\n",
              "      <td>172.362255</td>\n",
              "      <td>0.000</td>\n",
              "      <td>8.00000</td>\n",
              "      <td>18.000</td>\n",
              "      <td>29.0000</td>\n",
              "      <td>3390.000</td>\n",
              "    </tr>\n",
              "    <tr>\n",
              "      <th>harmonicDelta3</th>\n",
              "      <td>67244.0</td>\n",
              "      <td>425.634451</td>\n",
              "      <td>935.096358</td>\n",
              "      <td>0.000</td>\n",
              "      <td>51.00000</td>\n",
              "      <td>252.000</td>\n",
              "      <td>565.0000</td>\n",
              "      <td>20567.000</td>\n",
              "    </tr>\n",
              "    <tr>\n",
              "      <th>harmonicDelta4</th>\n",
              "      <td>67244.0</td>\n",
              "      <td>14.789676</td>\n",
              "      <td>59.139063</td>\n",
              "      <td>0.000</td>\n",
              "      <td>1.00000</td>\n",
              "      <td>6.000</td>\n",
              "      <td>11.0000</td>\n",
              "      <td>2001.000</td>\n",
              "    </tr>\n",
              "    <tr>\n",
              "      <th>harmonicDelta5</th>\n",
              "      <td>67244.0</td>\n",
              "      <td>247.043647</td>\n",
              "      <td>489.635334</td>\n",
              "      <td>0.000</td>\n",
              "      <td>42.00000</td>\n",
              "      <td>174.000</td>\n",
              "      <td>343.0000</td>\n",
              "      <td>11203.000</td>\n",
              "    </tr>\n",
              "    <tr>\n",
              "      <th>harmonicDelta6</th>\n",
              "      <td>67244.0</td>\n",
              "      <td>11.125959</td>\n",
              "      <td>55.617658</td>\n",
              "      <td>0.000</td>\n",
              "      <td>1.00000</td>\n",
              "      <td>4.000</td>\n",
              "      <td>9.0000</td>\n",
              "      <td>2298.000</td>\n",
              "    </tr>\n",
              "    <tr>\n",
              "      <th>harmonicDelta7</th>\n",
              "      <td>67244.0</td>\n",
              "      <td>160.194753</td>\n",
              "      <td>326.099619</td>\n",
              "      <td>0.000</td>\n",
              "      <td>29.00000</td>\n",
              "      <td>120.000</td>\n",
              "      <td>209.0000</td>\n",
              "      <td>7306.000</td>\n",
              "    </tr>\n",
              "    <tr>\n",
              "      <th>harmonicDelta8</th>\n",
              "      <td>67244.0</td>\n",
              "      <td>8.990170</td>\n",
              "      <td>50.970289</td>\n",
              "      <td>0.000</td>\n",
              "      <td>0.00000</td>\n",
              "      <td>3.000</td>\n",
              "      <td>6.0000</td>\n",
              "      <td>2113.000</td>\n",
              "    </tr>\n",
              "    <tr>\n",
              "      <th>harmonicDelta9</th>\n",
              "      <td>67244.0</td>\n",
              "      <td>88.669517</td>\n",
              "      <td>223.266514</td>\n",
              "      <td>0.000</td>\n",
              "      <td>23.00000</td>\n",
              "      <td>56.000</td>\n",
              "      <td>99.0000</td>\n",
              "      <td>4811.000</td>\n",
              "    </tr>\n",
              "  </tbody>\n",
              "</table>\n",
              "</div>\n",
              "      <button class=\"colab-df-convert\" onclick=\"convertToInteractive('df-d10da452-8503-4b9c-9a82-c6a663e556be')\"\n",
              "              title=\"Convert this dataframe to an interactive table.\"\n",
              "              style=\"display:none;\">\n",
              "        \n",
              "  <svg xmlns=\"http://www.w3.org/2000/svg\" height=\"24px\"viewBox=\"0 0 24 24\"\n",
              "       width=\"24px\">\n",
              "    <path d=\"M0 0h24v24H0V0z\" fill=\"none\"/>\n",
              "    <path d=\"M18.56 5.44l.94 2.06.94-2.06 2.06-.94-2.06-.94-.94-2.06-.94 2.06-2.06.94zm-11 1L8.5 8.5l.94-2.06 2.06-.94-2.06-.94L8.5 2.5l-.94 2.06-2.06.94zm10 10l.94 2.06.94-2.06 2.06-.94-2.06-.94-.94-2.06-.94 2.06-2.06.94z\"/><path d=\"M17.41 7.96l-1.37-1.37c-.4-.4-.92-.59-1.43-.59-.52 0-1.04.2-1.43.59L10.3 9.45l-7.72 7.72c-.78.78-.78 2.05 0 2.83L4 21.41c.39.39.9.59 1.41.59.51 0 1.02-.2 1.41-.59l7.78-7.78 2.81-2.81c.8-.78.8-2.07 0-2.86zM5.41 20L4 18.59l7.72-7.72 1.47 1.35L5.41 20z\"/>\n",
              "  </svg>\n",
              "      </button>\n",
              "      \n",
              "  <style>\n",
              "    .colab-df-container {\n",
              "      display:flex;\n",
              "      flex-wrap:wrap;\n",
              "      gap: 12px;\n",
              "    }\n",
              "\n",
              "    .colab-df-convert {\n",
              "      background-color: #E8F0FE;\n",
              "      border: none;\n",
              "      border-radius: 50%;\n",
              "      cursor: pointer;\n",
              "      display: none;\n",
              "      fill: #1967D2;\n",
              "      height: 32px;\n",
              "      padding: 0 0 0 0;\n",
              "      width: 32px;\n",
              "    }\n",
              "\n",
              "    .colab-df-convert:hover {\n",
              "      background-color: #E2EBFA;\n",
              "      box-shadow: 0px 1px 2px rgba(60, 64, 67, 0.3), 0px 1px 3px 1px rgba(60, 64, 67, 0.15);\n",
              "      fill: #174EA6;\n",
              "    }\n",
              "\n",
              "    [theme=dark] .colab-df-convert {\n",
              "      background-color: #3B4455;\n",
              "      fill: #D2E3FC;\n",
              "    }\n",
              "\n",
              "    [theme=dark] .colab-df-convert:hover {\n",
              "      background-color: #434B5C;\n",
              "      box-shadow: 0px 1px 3px 1px rgba(0, 0, 0, 0.15);\n",
              "      filter: drop-shadow(0px 1px 2px rgba(0, 0, 0, 0.3));\n",
              "      fill: #FFFFFF;\n",
              "    }\n",
              "  </style>\n",
              "\n",
              "      <script>\n",
              "        const buttonEl =\n",
              "          document.querySelector('#df-d10da452-8503-4b9c-9a82-c6a663e556be button.colab-df-convert');\n",
              "        buttonEl.style.display =\n",
              "          google.colab.kernel.accessAllowed ? 'block' : 'none';\n",
              "\n",
              "        async function convertToInteractive(key) {\n",
              "          const element = document.querySelector('#df-d10da452-8503-4b9c-9a82-c6a663e556be');\n",
              "          const dataTable =\n",
              "            await google.colab.kernel.invokeFunction('convertToInteractive',\n",
              "                                                     [key], {});\n",
              "          if (!dataTable) return;\n",
              "\n",
              "          const docLinkHtml = 'Like what you see? Visit the ' +\n",
              "            '<a target=\"_blank\" href=https://colab.research.google.com/notebooks/data_table.ipynb>data table notebook</a>'\n",
              "            + ' to learn more about interactive tables.';\n",
              "          element.innerHTML = '';\n",
              "          dataTable['output_type'] = 'display_data';\n",
              "          await google.colab.output.renderOutput(dataTable, element);\n",
              "          const docLink = document.createElement('div');\n",
              "          docLink.innerHTML = docLinkHtml;\n",
              "          element.appendChild(docLink);\n",
              "        }\n",
              "      </script>\n",
              "    </div>\n",
              "  </div>\n",
              "  "
            ]
          },
          "metadata": {},
          "execution_count": 16
        }
      ]
    },
    {
      "cell_type": "code",
      "source": [
        "df.columns"
      ],
      "metadata": {
        "colab": {
          "base_uri": "https://localhost:8080/"
        },
        "id": "Jj-WUPMpcyCa",
        "outputId": "8c5739c7-92ae-4454-c13f-88ef7041b6ac"
      },
      "execution_count": null,
      "outputs": [
        {
          "output_type": "execute_result",
          "data": {
            "text/plain": [
              "Index(['activePower', 'activePowerDelta', 'reactivePower', 'apparentPower',\n",
              "       'current', 'voltage', 'phase', 'hertz', 'transient1', 'transient2',\n",
              "       'transient3', 'transient4', 'transient5', 'transient6', 'transient7',\n",
              "       'transient8', 'transient9', 'transient10', 'harmonicDelta1',\n",
              "       'harmonicDelta2', 'harmonicDelta3', 'harmonicDelta4', 'harmonicDelta5',\n",
              "       'harmonicDelta6', 'harmonicDelta7', 'harmonicDelta8', 'harmonicDelta9',\n",
              "       'appliances'],\n",
              "      dtype='object')"
            ]
          },
          "metadata": {},
          "execution_count": 22
        }
      ]
    },
    {
      "cell_type": "code",
      "source": [
        "df[\"appliances\"].unique()"
      ],
      "metadata": {
        "colab": {
          "base_uri": "https://localhost:8080/"
        },
        "id": "f1gWyOlfc5Jx",
        "outputId": "10d63e90-9d20-46c6-d35e-aa1285c278da"
      },
      "execution_count": null,
      "outputs": [
        {
          "output_type": "execute_result",
          "data": {
            "text/plain": [
              "array(['+fridge', '+fridge+shower',\n",
              "       '+fridge+washing_machine+washer_dryer', '+fridge+microwave',\n",
              "       '+fridge+washer_dryer', '+fridge+tumble_dryer+washer_dryer',\n",
              "       '+fridge+tumble_dryer+washer_dryer+microwave', '+fridge+kettle',\n",
              "       '+fridge+washing_machine+washer_dryer+microwave',\n",
              "       '+fridge+kettle+microwave', '+fridge+vacuum',\n",
              "       '+fridge+kettle+washing_machine+washer_dryer', '+washer_dryer',\n",
              "       '+fridge+kettle+washer_dryer', '+fridge+shower+washer_dryer',\n",
              "       '+fridge+kettle+tumble_dryer+washer_dryer+microwave',\n",
              "       '+fridge+shower+washing_machine+washer_dryer',\n",
              "       '+fridge+shower+kettle', '+tumble_dryer+washer_dryer',\n",
              "       '+fridge+shower+tumble_dryer+washer_dryer',\n",
              "       '+fridge+washer_dryer+microwave',\n",
              "       '+fridge+vacuum+washing_machine+washer_dryer',\n",
              "       '+fridge+kettle+tumble_dryer+washer_dryer',\n",
              "       '+fridge+vacuum+tumble_dryer+washer_dryer',\n",
              "       '+fridge+vacuum+washer_dryer', '+shower'], dtype=object)"
            ]
          },
          "metadata": {},
          "execution_count": 29
        }
      ]
    },
    {
      "cell_type": "code",
      "source": [
        "df[\"appliances\"].nunique()"
      ],
      "metadata": {
        "colab": {
          "base_uri": "https://localhost:8080/"
        },
        "id": "FbGBg2T9c7wy",
        "outputId": "82f4eb2c-c309-4e0b-e416-95e126166b88"
      },
      "execution_count": null,
      "outputs": [
        {
          "output_type": "execute_result",
          "data": {
            "text/plain": [
              "26"
            ]
          },
          "metadata": {},
          "execution_count": 30
        }
      ]
    },
    {
      "cell_type": "code",
      "source": [
        "plt.figure(figsize=(12,8))\n",
        "sns.countplot(data=df,x=\"appliances\")\n",
        "plt.xticks(rotation = 90)"
      ],
      "metadata": {
        "colab": {
          "base_uri": "https://localhost:8080/",
          "height": 864
        },
        "id": "8ewm5fExc-C2",
        "outputId": "18c16a8e-0326-419e-a792-62589530b4ba"
      },
      "execution_count": null,
      "outputs": [
        {
          "output_type": "execute_result",
          "data": {
            "text/plain": [
              "(array([ 0,  1,  2,  3,  4,  5,  6,  7,  8,  9, 10, 11, 12, 13, 14, 15, 16,\n",
              "        17, 18, 19, 20, 21, 22, 23, 24, 25]),\n",
              " <a list of 26 Text major ticklabel objects>)"
            ]
          },
          "metadata": {},
          "execution_count": 31
        },
        {
          "output_type": "display_data",
          "data": {
            "text/plain": [
              "<Figure size 864x576 with 1 Axes>"
            ],
            "image/png": "[encoded data removed]"
          },
          "metadata": {}
        }
      ]
    },
    {
      "cell_type": "code",
      "source": [
        "df[\"appliances\"].value_counts()"
      ],
      "metadata": {
        "colab": {
          "base_uri": "https://localhost:8080/"
        },
        "id": "IcRXvz6vdHzw",
        "outputId": "e659cd7c-dddc-4e4a-9b1b-3a821c1b1dc4"
      },
      "execution_count": null,
      "outputs": [
        {
          "output_type": "execute_result",
          "data": {
            "text/plain": [
              "+fridge+washing_machine+washer_dryer                  24906\n",
              "+fridge                                               22886\n",
              "+fridge+tumble_dryer+washer_dryer                     12398\n",
              "+fridge+washer_dryer                                   2645\n",
              "+fridge+microwave                                      1591\n",
              "+fridge+washing_machine+washer_dryer+microwave          932\n",
              "+fridge+shower                                          490\n",
              "+fridge+tumble_dryer+washer_dryer+microwave             453\n",
              "+fridge+kettle                                          338\n",
              "+fridge+kettle+washing_machine+washer_dryer             175\n",
              "+fridge+washer_dryer+microwave                          120\n",
              "+fridge+shower+washing_machine+washer_dryer              69\n",
              "+fridge+kettle+tumble_dryer+washer_dryer                 58\n",
              "+fridge+kettle+washer_dryer                              49\n",
              "+fridge+shower+tumble_dryer+washer_dryer                 33\n",
              "+tumble_dryer+washer_dryer                               30\n",
              "+fridge+shower+washer_dryer                              24\n",
              "+fridge+vacuum                                           17\n",
              "+fridge+vacuum+tumble_dryer+washer_dryer                  9\n",
              "+fridge+kettle+microwave                                  8\n",
              "+washer_dryer                                             4\n",
              "+fridge+shower+kettle                                     3\n",
              "+fridge+vacuum+washing_machine+washer_dryer               3\n",
              "+fridge+kettle+tumble_dryer+washer_dryer+microwave        1\n",
              "+fridge+vacuum+washer_dryer                               1\n",
              "+shower                                                   1\n",
              "Name: appliances, dtype: int64"
            ]
          },
          "metadata": {},
          "execution_count": 32
        }
      ]
    },
    {
      "cell_type": "code",
      "source": [
        "df.head()"
      ],
      "metadata": {
        "colab": {
          "base_uri": "https://localhost:8080/",
          "height": 236
        },
        "id": "2AZLYtGod9zX",
        "outputId": "1348c5a0-c959-4598-8c58-2f2b938dc36d"
      },
      "execution_count": null,
      "outputs": [
        {
          "output_type": "execute_result",
          "data": {
            "text/plain": [
              "   activePower  activePowerDelta  reactivePower  apparentPower  current  \\\n",
              "0           80                 1            -38            126    0.562   \n",
              "1           77                32            -37            124    0.552   \n",
              "2           43              -100            -22             65    0.290   \n",
              "3          143                -3            143            204    0.914   \n",
              "4          146                -7            142            206    0.924   \n",
              "\n",
              "   voltage  phase  hertz  transient1  transient2  ...  harmonicDelta1  \\\n",
              "0  224.258  -25.3     60       0.562       0.562  ...              21   \n",
              "1  225.127  -25.6     60       0.590       0.584  ...             235   \n",
              "2  224.258  -27.0     60       0.287       0.290  ...            1183   \n",
              "3  223.389   44.6     60       0.914       0.914  ...              82   \n",
              "4  223.389   43.9     60       0.924       0.924  ...             128   \n",
              "\n",
              "   harmonicDelta2  harmonicDelta3  harmonicDelta4  harmonicDelta5  \\\n",
              "0               8              41               8              56   \n",
              "1               0             184               0             133   \n",
              "2               0              90               0              29   \n",
              "3              26              16               1              31   \n",
              "4              18              33               9              47   \n",
              "\n",
              "   harmonicDelta6  harmonicDelta7  harmonicDelta8  harmonicDelta9  appliances  \n",
              "0              18              64              14              85     +fridge  \n",
              "1               0              77               0              62     +fridge  \n",
              "2               0              14               0               4     +fridge  \n",
              "3               6              39               3              41     +fridge  \n",
              "4               0              36               3              42     +fridge  \n",
              "\n",
              "[5 rows x 28 columns]"
            ],
            "text/html": [
              "\n",
              "  <div id=\"df-a947dae9-a4e5-4a03-a223-b79c9a7a8a99\">\n",
              "    <div class=\"colab-df-container\">\n",
              "      <div>\n",
              "<style scoped>\n",
              "    .dataframe tbody tr th:only-of-type {\n",
              "        vertical-align: middle;\n",
              "    }\n",
              "\n",
              "    .dataframe tbody tr th {\n",
              "        vertical-align: top;\n",
              "    }\n",
              "\n",
              "    .dataframe thead th {\n",
              "        text-align: right;\n",
              "    }\n",
              "</style>\n",
              "<table border=\"1\" class=\"dataframe\">\n",
              "  <thead>\n",
              "    <tr style=\"text-align: right;\">\n",
              "      <th></th>\n",
              "      <th>activePower</th>\n",
              "      <th>activePowerDelta</th>\n",
              "      <th>reactivePower</th>\n",
              "      <th>apparentPower</th>\n",
              "      <th>current</th>\n",
              "      <th>voltage</th>\n",
              "      <th>phase</th>\n",
              "      <th>hertz</th>\n",
              "      <th>transient1</th>\n",
              "      <th>transient2</th>\n",
              "      <th>...</th>\n",
              "      <th>harmonicDelta1</th>\n",
              "      <th>harmonicDelta2</th>\n",
              "      <th>harmonicDelta3</th>\n",
              "      <th>harmonicDelta4</th>\n",
              "      <th>harmonicDelta5</th>\n",
              "      <th>harmonicDelta6</th>\n",
              "      <th>harmonicDelta7</th>\n",
              "      <th>harmonicDelta8</th>\n",
              "      <th>harmonicDelta9</th>\n",
              "      <th>appliances</th>\n",
              "    </tr>\n",
              "  </thead>\n",
              "  <tbody>\n",
              "    <tr>\n",
              "      <th>0</th>\n",
              "      <td>80</td>\n",
              "      <td>1</td>\n",
              "      <td>-38</td>\n",
              "      <td>126</td>\n",
              "      <td>0.562</td>\n",
              "      <td>224.258</td>\n",
              "      <td>-25.3</td>\n",
              "      <td>60</td>\n",
              "      <td>0.562</td>\n",
              "      <td>0.562</td>\n",
              "      <td>...</td>\n",
              "      <td>21</td>\n",
              "      <td>8</td>\n",
              "      <td>41</td>\n",
              "      <td>8</td>\n",
              "      <td>56</td>\n",
              "      <td>18</td>\n",
              "      <td>64</td>\n",
              "      <td>14</td>\n",
              "      <td>85</td>\n",
              "      <td>+fridge</td>\n",
              "    </tr>\n",
              "    <tr>\n",
              "      <th>1</th>\n",
              "      <td>77</td>\n",
              "      <td>32</td>\n",
              "      <td>-37</td>\n",
              "      <td>124</td>\n",
              "      <td>0.552</td>\n",
              "      <td>225.127</td>\n",
              "      <td>-25.6</td>\n",
              "      <td>60</td>\n",
              "      <td>0.590</td>\n",
              "      <td>0.584</td>\n",
              "      <td>...</td>\n",
              "      <td>235</td>\n",
              "      <td>0</td>\n",
              "      <td>184</td>\n",
              "      <td>0</td>\n",
              "      <td>133</td>\n",
              "      <td>0</td>\n",
              "      <td>77</td>\n",
              "      <td>0</td>\n",
              "      <td>62</td>\n",
              "      <td>+fridge</td>\n",
              "    </tr>\n",
              "    <tr>\n",
              "      <th>2</th>\n",
              "      <td>43</td>\n",
              "      <td>-100</td>\n",
              "      <td>-22</td>\n",
              "      <td>65</td>\n",
              "      <td>0.290</td>\n",
              "      <td>224.258</td>\n",
              "      <td>-27.0</td>\n",
              "      <td>60</td>\n",
              "      <td>0.287</td>\n",
              "      <td>0.290</td>\n",
              "      <td>...</td>\n",
              "      <td>1183</td>\n",
              "      <td>0</td>\n",
              "      <td>90</td>\n",
              "      <td>0</td>\n",
              "      <td>29</td>\n",
              "      <td>0</td>\n",
              "      <td>14</td>\n",
              "      <td>0</td>\n",
              "      <td>4</td>\n",
              "      <td>+fridge</td>\n",
              "    </tr>\n",
              "    <tr>\n",
              "      <th>3</th>\n",
              "      <td>143</td>\n",
              "      <td>-3</td>\n",
              "      <td>143</td>\n",
              "      <td>204</td>\n",
              "      <td>0.914</td>\n",
              "      <td>223.389</td>\n",
              "      <td>44.6</td>\n",
              "      <td>60</td>\n",
              "      <td>0.914</td>\n",
              "      <td>0.914</td>\n",
              "      <td>...</td>\n",
              "      <td>82</td>\n",
              "      <td>26</td>\n",
              "      <td>16</td>\n",
              "      <td>1</td>\n",
              "      <td>31</td>\n",
              "      <td>6</td>\n",
              "      <td>39</td>\n",
              "      <td>3</td>\n",
              "      <td>41</td>\n",
              "      <td>+fridge</td>\n",
              "    </tr>\n",
              "    <tr>\n",
              "      <th>4</th>\n",
              "      <td>146</td>\n",
              "      <td>-7</td>\n",
              "      <td>142</td>\n",
              "      <td>206</td>\n",
              "      <td>0.924</td>\n",
              "      <td>223.389</td>\n",
              "      <td>43.9</td>\n",
              "      <td>60</td>\n",
              "      <td>0.924</td>\n",
              "      <td>0.924</td>\n",
              "      <td>...</td>\n",
              "      <td>128</td>\n",
              "      <td>18</td>\n",
              "      <td>33</td>\n",
              "      <td>9</td>\n",
              "      <td>47</td>\n",
              "      <td>0</td>\n",
              "      <td>36</td>\n",
              "      <td>3</td>\n",
              "      <td>42</td>\n",
              "      <td>+fridge</td>\n",
              "    </tr>\n",
              "  </tbody>\n",
              "</table>\n",
              "<p>5 rows × 28 columns</p>\n",
              "</div>\n",
              "      <button class=\"colab-df-convert\" onclick=\"convertToInteractive('df-a947dae9-a4e5-4a03-a223-b79c9a7a8a99')\"\n",
              "              title=\"Convert this dataframe to an interactive table.\"\n",
              "              style=\"display:none;\">\n",
              "        \n",
              "  <svg xmlns=\"http://www.w3.org/2000/svg\" height=\"24px\"viewBox=\"0 0 24 24\"\n",
              "       width=\"24px\">\n",
              "    <path d=\"M0 0h24v24H0V0z\" fill=\"none\"/>\n",
              "    <path d=\"M18.56 5.44l.94 2.06.94-2.06 2.06-.94-2.06-.94-.94-2.06-.94 2.06-2.06.94zm-11 1L8.5 8.5l.94-2.06 2.06-.94-2.06-.94L8.5 2.5l-.94 2.06-2.06.94zm10 10l.94 2.06.94-2.06 2.06-.94-2.06-.94-.94-2.06-.94 2.06-2.06.94z\"/><path d=\"M17.41 7.96l-1.37-1.37c-.4-.4-.92-.59-1.43-.59-.52 0-1.04.2-1.43.59L10.3 9.45l-7.72 7.72c-.78.78-.78 2.05 0 2.83L4 21.41c.39.39.9.59 1.41.59.51 0 1.02-.2 1.41-.59l7.78-7.78 2.81-2.81c.8-.78.8-2.07 0-2.86zM5.41 20L4 18.59l7.72-7.72 1.47 1.35L5.41 20z\"/>\n",
              "  </svg>\n",
              "      </button>\n",
              "      \n",
              "  <style>\n",
              "    .colab-df-container {\n",
              "      display:flex;\n",
              "      flex-wrap:wrap;\n",
              "      gap: 12px;\n",
              "    }\n",
              "\n",
              "    .colab-df-convert {\n",
              "      background-color: #E8F0FE;\n",
              "      border: none;\n",
              "      border-radius: 50%;\n",
              "      cursor: pointer;\n",
              "      display: none;\n",
              "      fill: #1967D2;\n",
              "      height: 32px;\n",
              "      padding: 0 0 0 0;\n",
              "      width: 32px;\n",
              "    }\n",
              "\n",
              "    .colab-df-convert:hover {\n",
              "      background-color: #E2EBFA;\n",
              "      box-shadow: 0px 1px 2px rgba(60, 64, 67, 0.3), 0px 1px 3px 1px rgba(60, 64, 67, 0.15);\n",
              "      fill: #174EA6;\n",
              "    }\n",
              "\n",
              "    [theme=dark] .colab-df-convert {\n",
              "      background-color: #3B4455;\n",
              "      fill: #D2E3FC;\n",
              "    }\n",
              "\n",
              "    [theme=dark] .colab-df-convert:hover {\n",
              "      background-color: #434B5C;\n",
              "      box-shadow: 0px 1px 3px 1px rgba(0, 0, 0, 0.15);\n",
              "      filter: drop-shadow(0px 1px 2px rgba(0, 0, 0, 0.3));\n",
              "      fill: #FFFFFF;\n",
              "    }\n",
              "  </style>\n",
              "\n",
              "      <script>\n",
              "        const buttonEl =\n",
              "          document.querySelector('#df-a947dae9-a4e5-4a03-a223-b79c9a7a8a99 button.colab-df-convert');\n",
              "        buttonEl.style.display =\n",
              "          google.colab.kernel.accessAllowed ? 'block' : 'none';\n",
              "\n",
              "        async function convertToInteractive(key) {\n",
              "          const element = document.querySelector('#df-a947dae9-a4e5-4a03-a223-b79c9a7a8a99');\n",
              "          const dataTable =\n",
              "            await google.colab.kernel.invokeFunction('convertToInteractive',\n",
              "                                                     [key], {});\n",
              "          if (!dataTable) return;\n",
              "\n",
              "          const docLinkHtml = 'Like what you see? Visit the ' +\n",
              "            '<a target=\"_blank\" href=https://colab.research.google.com/notebooks/data_table.ipynb>data table notebook</a>'\n",
              "            + ' to learn more about interactive tables.';\n",
              "          element.innerHTML = '';\n",
              "          dataTable['output_type'] = 'display_data';\n",
              "          await google.colab.output.renderOutput(dataTable, element);\n",
              "          const docLink = document.createElement('div');\n",
              "          docLink.innerHTML = docLinkHtml;\n",
              "          element.appendChild(docLink);\n",
              "        }\n",
              "      </script>\n",
              "    </div>\n",
              "  </div>\n",
              "  "
            ]
          },
          "metadata": {},
          "execution_count": 33
        }
      ]
    },
    {
      "cell_type": "code",
      "source": [
        "from sklearn.preprocessing import LabelEncoder\n",
        "le=LabelEncoder()\n",
        "X=df.drop('appliances',axis=1)\n",
        "Y=le.fit_transform(df['appliances'])"
      ],
      "metadata": {
        "id": "ndAIy0osdwBu"
      },
      "execution_count": null,
      "outputs": []
    },
    {
      "cell_type": "code",
      "source": [
        "le.classes_"
      ],
      "metadata": {
        "colab": {
          "base_uri": "https://localhost:8080/"
        },
        "id": "W2Jw8J-2eA8r",
        "outputId": "6e6c80ea-9e43-424d-e353-1301d046edea"
      },
      "execution_count": null,
      "outputs": [
        {
          "output_type": "execute_result",
          "data": {
            "text/plain": [
              "array(['+fridge', '+fridge+kettle', '+fridge+kettle+microwave',\n",
              "       '+fridge+kettle+tumble_dryer+washer_dryer',\n",
              "       '+fridge+kettle+tumble_dryer+washer_dryer+microwave',\n",
              "       '+fridge+kettle+washer_dryer',\n",
              "       '+fridge+kettle+washing_machine+washer_dryer', '+fridge+microwave',\n",
              "       '+fridge+shower', '+fridge+shower+kettle',\n",
              "       '+fridge+shower+tumble_dryer+washer_dryer',\n",
              "       '+fridge+shower+washer_dryer',\n",
              "       '+fridge+shower+washing_machine+washer_dryer',\n",
              "       '+fridge+tumble_dryer+washer_dryer',\n",
              "       '+fridge+tumble_dryer+washer_dryer+microwave', '+fridge+vacuum',\n",
              "       '+fridge+vacuum+tumble_dryer+washer_dryer',\n",
              "       '+fridge+vacuum+washer_dryer',\n",
              "       '+fridge+vacuum+washing_machine+washer_dryer',\n",
              "       '+fridge+washer_dryer', '+fridge+washer_dryer+microwave',\n",
              "       '+fridge+washing_machine+washer_dryer',\n",
              "       '+fridge+washing_machine+washer_dryer+microwave', '+shower',\n",
              "       '+tumble_dryer+washer_dryer', '+washer_dryer'], dtype=object)"
            ]
          },
          "metadata": {},
          "execution_count": 35
        }
      ]
    },
    {
      "cell_type": "code",
      "source": [
        "le.inverse_transform([0,  1,  2,  3,  4,  5,  6,  7,  8,  9, 10, 11, 12, 13, 14, 15, 16,\n",
        "       17, 18, 19, 20, 21, 22, 23, 24, 25])"
      ],
      "metadata": {
        "colab": {
          "base_uri": "https://localhost:8080/"
        },
        "id": "iAF78rhOeGPg",
        "outputId": "3b33460f-f4b2-4e4b-cfae-52415253fc26"
      },
      "execution_count": null,
      "outputs": [
        {
          "output_type": "execute_result",
          "data": {
            "text/plain": [
              "array(['+fridge', '+fridge+kettle', '+fridge+kettle+microwave',\n",
              "       '+fridge+kettle+tumble_dryer+washer_dryer',\n",
              "       '+fridge+kettle+tumble_dryer+washer_dryer+microwave',\n",
              "       '+fridge+kettle+washer_dryer',\n",
              "       '+fridge+kettle+washing_machine+washer_dryer', '+fridge+microwave',\n",
              "       '+fridge+shower', '+fridge+shower+kettle',\n",
              "       '+fridge+shower+tumble_dryer+washer_dryer',\n",
              "       '+fridge+shower+washer_dryer',\n",
              "       '+fridge+shower+washing_machine+washer_dryer',\n",
              "       '+fridge+tumble_dryer+washer_dryer',\n",
              "       '+fridge+tumble_dryer+washer_dryer+microwave', '+fridge+vacuum',\n",
              "       '+fridge+vacuum+tumble_dryer+washer_dryer',\n",
              "       '+fridge+vacuum+washer_dryer',\n",
              "       '+fridge+vacuum+washing_machine+washer_dryer',\n",
              "       '+fridge+washer_dryer', '+fridge+washer_dryer+microwave',\n",
              "       '+fridge+washing_machine+washer_dryer',\n",
              "       '+fridge+washing_machine+washer_dryer+microwave', '+shower',\n",
              "       '+tumble_dryer+washer_dryer', '+washer_dryer'], dtype=object)"
            ]
          },
          "metadata": {},
          "execution_count": 36
        }
      ]
    },
    {
      "cell_type": "code",
      "source": [
        "mydict=dict(zip(le.inverse_transform([0,  1,  2,  3,  4,  5,  6,  7,  8,  9, 10, 11, 12, 13, 14, 15, 16,\n",
        "       17, 18, 19, 20, 21, 22, 23, 24, 25]),[0,  1,  2,  3,  4,  5,  6,  7,  8,  9, 10, 11, 12, 13, 14, 15, 16,\n",
        "       17, 18, 19, 20, 21, 22, 23, 24, 25]))"
      ],
      "metadata": {
        "id": "bg3cO5QoeIjA"
      },
      "execution_count": null,
      "outputs": []
    },
    {
      "cell_type": "code",
      "source": [
        "mydict"
      ],
      "metadata": {
        "colab": {
          "base_uri": "https://localhost:8080/"
        },
        "id": "VgQn0sEVC6TH",
        "outputId": "359667dd-8b30-4b6c-87d2-153b6fef4eac"
      },
      "execution_count": null,
      "outputs": [
        {
          "output_type": "execute_result",
          "data": {
            "text/plain": [
              "{'+fridge': 0,\n",
              " '+fridge+kettle': 1,\n",
              " '+fridge+kettle+microwave': 2,\n",
              " '+fridge+kettle+tumble_dryer+washer_dryer': 3,\n",
              " '+fridge+kettle+tumble_dryer+washer_dryer+microwave': 4,\n",
              " '+fridge+kettle+washer_dryer': 5,\n",
              " '+fridge+kettle+washing_machine+washer_dryer': 6,\n",
              " '+fridge+microwave': 7,\n",
              " '+fridge+shower': 8,\n",
              " '+fridge+shower+kettle': 9,\n",
              " '+fridge+shower+tumble_dryer+washer_dryer': 10,\n",
              " '+fridge+shower+washer_dryer': 11,\n",
              " '+fridge+shower+washing_machine+washer_dryer': 12,\n",
              " '+fridge+tumble_dryer+washer_dryer': 13,\n",
              " '+fridge+tumble_dryer+washer_dryer+microwave': 14,\n",
              " '+fridge+vacuum': 15,\n",
              " '+fridge+vacuum+tumble_dryer+washer_dryer': 16,\n",
              " '+fridge+vacuum+washer_dryer': 17,\n",
              " '+fridge+vacuum+washing_machine+washer_dryer': 18,\n",
              " '+fridge+washer_dryer': 19,\n",
              " '+fridge+washer_dryer+microwave': 20,\n",
              " '+fridge+washing_machine+washer_dryer': 21,\n",
              " '+fridge+washing_machine+washer_dryer+microwave': 22,\n",
              " '+shower': 23,\n",
              " '+tumble_dryer+washer_dryer': 24,\n",
              " '+washer_dryer': 25}"
            ]
          },
          "metadata": {},
          "execution_count": 38
        }
      ]
    },
    {
      "cell_type": "code",
      "source": [
        "list(mydict.keys())"
      ],
      "metadata": {
        "colab": {
          "base_uri": "https://localhost:8080/"
        },
        "id": "C7KUpVA-eh_C",
        "outputId": "a7f71546-1278-4028-a9f8-97c947fad439"
      },
      "execution_count": null,
      "outputs": [
        {
          "output_type": "execute_result",
          "data": {
            "text/plain": [
              "['+fridge',\n",
              " '+fridge+kettle',\n",
              " '+fridge+kettle+microwave',\n",
              " '+fridge+kettle+tumble_dryer+washer_dryer',\n",
              " '+fridge+kettle+tumble_dryer+washer_dryer+microwave',\n",
              " '+fridge+kettle+washer_dryer',\n",
              " '+fridge+kettle+washing_machine+washer_dryer',\n",
              " '+fridge+microwave',\n",
              " '+fridge+shower',\n",
              " '+fridge+shower+kettle',\n",
              " '+fridge+shower+tumble_dryer+washer_dryer',\n",
              " '+fridge+shower+washer_dryer',\n",
              " '+fridge+shower+washing_machine+washer_dryer',\n",
              " '+fridge+tumble_dryer+washer_dryer',\n",
              " '+fridge+tumble_dryer+washer_dryer+microwave',\n",
              " '+fridge+vacuum',\n",
              " '+fridge+vacuum+tumble_dryer+washer_dryer',\n",
              " '+fridge+vacuum+washer_dryer',\n",
              " '+fridge+vacuum+washing_machine+washer_dryer',\n",
              " '+fridge+washer_dryer',\n",
              " '+fridge+washer_dryer+microwave',\n",
              " '+fridge+washing_machine+washer_dryer',\n",
              " '+fridge+washing_machine+washer_dryer+microwave',\n",
              " '+shower',\n",
              " '+tumble_dryer+washer_dryer',\n",
              " '+washer_dryer']"
            ]
          },
          "metadata": {},
          "execution_count": 39
        }
      ]
    },
    {
      "cell_type": "code",
      "source": [
        "Y[1800]"
      ],
      "metadata": {
        "colab": {
          "base_uri": "https://localhost:8080/"
        },
        "id": "pvSX6RfHf3FC",
        "outputId": "96819142-fa7a-42d8-d559-deae809f5f84"
      },
      "execution_count": null,
      "outputs": [
        {
          "output_type": "execute_result",
          "data": {
            "text/plain": [
              "19"
            ]
          },
          "metadata": {},
          "execution_count": 41
        }
      ]
    },
    {
      "cell_type": "code",
      "source": [
        "from sklearn.model_selection import train_test_split\n",
        "X_train,X_test,y_train,y_test = train_test_split(X, Y,  test_size = 0.1,random_state = 42)"
      ],
      "metadata": {
        "id": "maFfn_cGek5i"
      },
      "execution_count": null,
      "outputs": []
    },
    {
      "cell_type": "code",
      "source": [
        "X_train.shape"
      ],
      "metadata": {
        "colab": {
          "base_uri": "https://localhost:8080/"
        },
        "id": "2VEsh66ggItQ",
        "outputId": "f83fabeb-dabd-4a82-a569-f1009efa3f7a"
      },
      "execution_count": null,
      "outputs": [
        {
          "output_type": "execute_result",
          "data": {
            "text/plain": [
              "(60519, 27)"
            ]
          },
          "metadata": {},
          "execution_count": 43
        }
      ]
    },
    {
      "cell_type": "code",
      "source": [
        "y_train.shape"
      ],
      "metadata": {
        "colab": {
          "base_uri": "https://localhost:8080/"
        },
        "id": "GhEIHKCAgMRh",
        "outputId": "ac46a1d2-e126-435d-b626-84e56b124270"
      },
      "execution_count": null,
      "outputs": [
        {
          "output_type": "execute_result",
          "data": {
            "text/plain": [
              "(60519,)"
            ]
          },
          "metadata": {},
          "execution_count": 44
        }
      ]
    },
    {
      "cell_type": "code",
      "source": [
        "X_test.shape"
      ],
      "metadata": {
        "colab": {
          "base_uri": "https://localhost:8080/"
        },
        "id": "iIx2phvigOU5",
        "outputId": "f7523521-597f-4fe3-8293-84c3bbeb08c2"
      },
      "execution_count": null,
      "outputs": [
        {
          "output_type": "execute_result",
          "data": {
            "text/plain": [
              "(6725, 27)"
            ]
          },
          "metadata": {},
          "execution_count": 45
        }
      ]
    },
    {
      "cell_type": "code",
      "source": [
        "y_test.shape"
      ],
      "metadata": {
        "colab": {
          "base_uri": "https://localhost:8080/"
        },
        "id": "3pIKNGb6gPKR",
        "outputId": "1d53d97d-9eda-4658-f80f-53eca69a82f7"
      },
      "execution_count": null,
      "outputs": [
        {
          "output_type": "execute_result",
          "data": {
            "text/plain": [
              "(6725,)"
            ]
          },
          "metadata": {},
          "execution_count": 46
        }
      ]
    },
    {
      "cell_type": "code",
      "source": [
        "from sklearn.preprocessing import StandardScaler"
      ],
      "metadata": {
        "id": "0D9AZU40DDmj"
      },
      "execution_count": null,
      "outputs": []
    },
    {
      "cell_type": "code",
      "source": [
        "scaler = StandardScaler()\n",
        "scaled_X_train = scaler.fit_transform(X_train)\n",
        "scaled_X_test = scaler.transform(X_test)"
      ],
      "metadata": {
        "id": "asBVPcfgDFIG"
      },
      "execution_count": null,
      "outputs": []
    },
    {
      "cell_type": "code",
      "source": [
        "import xgboost as xgb\n",
        "from xgboost import XGBClassifier\n",
        "from sklearn.metrics import accuracy_score\n",
        "from sklearn.model_selection import GridSearchCV"
      ],
      "metadata": {
        "id": "8lu6Cv5kgRjr"
      },
      "execution_count": null,
      "outputs": []
    },
    {
      "cell_type": "code",
      "source": [
        "xgb_clf = xgb.XGBClassifier(objective='multi:softmax',\n",
        "                            num_class=26,\n",
        "\n",
        "                            early_stopping_rounds=10,\n",
        "                            eval_metric=['merror','mlogloss'],\n",
        "                            seed=42)"
      ],
      "metadata": {
        "id": "ZrG_1cj5gVWt"
      },
      "execution_count": null,
      "outputs": []
    },
    {
      "cell_type": "code",
      "source": [
        "xgb_clf.fit(X_train.values,y_train)"
      ],
      "metadata": {
        "colab": {
          "base_uri": "https://localhost:8080/"
        },
        "id": "fW2Wk5eRgXZk",
        "outputId": "8ffc219e-1ea2-4ebe-8b90-774fad41d0a1"
      },
      "execution_count": null,
      "outputs": [
        {
          "output_type": "execute_result",
          "data": {
            "text/plain": [
              "XGBClassifier(early_stopping_rounds=10, eval_metric=['merror', 'mlogloss'],\n",
              "              num_class=26, objective='multi:softprob', seed=42)"
            ]
          },
          "metadata": {},
          "execution_count": 56
        }
      ]
    },
    {
      "cell_type": "code",
      "source": [
        "y_pred = xgb_clf.predict(X_test.values)"
      ],
      "metadata": {
        "id": "t4pblibDgh9N"
      },
      "execution_count": null,
      "outputs": []
    },
    {
      "cell_type": "code",
      "source": [
        "accuracy = accuracy_score(y_test, y_pred) * 100"
      ],
      "metadata": {
        "id": "PGsNYo7Og_Zl"
      },
      "execution_count": null,
      "outputs": []
    },
    {
      "cell_type": "code",
      "source": [
        "accuracy"
      ],
      "metadata": {
        "colab": {
          "base_uri": "https://localhost:8080/"
        },
        "id": "ydTauJOuhBoY",
        "outputId": "d57e6bf8-5d47-43a9-e999-b1d16eab08f3"
      },
      "execution_count": null,
      "outputs": [
        {
          "output_type": "execute_result",
          "data": {
            "text/plain": [
              "77.85873605947955"
            ]
          },
          "metadata": {},
          "execution_count": 59
        }
      ]
    },
    {
      "cell_type": "code",
      "source": [
        "from sklearn.metrics import accuracy_score, confusion_matrix"
      ],
      "metadata": {
        "id": "vGHWHj-ihPJM"
      },
      "execution_count": null,
      "outputs": []
    },
    {
      "cell_type": "code",
      "source": [
        "from sklearn.metrics import accuracy_score,confusion_matrix,classification_report,plot_confusion_matrix"
      ],
      "metadata": {
        "id": "xidm9fKLhxvO"
      },
      "execution_count": null,
      "outputs": []
    },
    {
      "cell_type": "code",
      "source": [
        "print(classification_report(y_test,y_pred))"
      ],
      "metadata": {
        "colab": {
          "base_uri": "https://localhost:8080/"
        },
        "id": "gjHJy7G3hyPg",
        "outputId": "2734b6c4-1679-46e7-e68d-e04fb7bf3c50"
      },
      "execution_count": null,
      "outputs": [
        {
          "output_type": "stream",
          "name": "stdout",
          "text": [
            "              precision    recall  f1-score   support\n",
            "\n",
            "           0       0.88      0.92      0.90      2312\n",
            "           1       0.73      0.79      0.76        34\n",
            "           2       0.00      0.00      0.00         1\n",
            "           3       0.00      0.00      0.00         5\n",
            "           5       0.00      0.00      0.00         2\n",
            "           6       0.00      0.00      0.00        24\n",
            "           7       0.68      0.94      0.79       167\n",
            "           8       0.72      0.96      0.82        48\n",
            "          10       0.00      0.00      0.00         1\n",
            "          11       0.00      0.00      0.00         2\n",
            "          12       0.00      0.00      0.00         2\n",
            "          13       0.83      0.47      0.60      1222\n",
            "          14       1.00      0.26      0.42        42\n",
            "          15       0.00      0.00      0.00         2\n",
            "          16       0.00      0.00      0.00         1\n",
            "          19       0.33      0.00      0.01       281\n",
            "          20       0.00      0.00      0.00        11\n",
            "          21       0.70      0.92      0.80      2454\n",
            "          22       0.75      0.24      0.37       111\n",
            "          24       0.00      0.00      0.00         2\n",
            "          25       0.00      0.00      0.00         1\n",
            "\n",
            "    accuracy                           0.78      6725\n",
            "   macro avg       0.32      0.26      0.26      6725\n",
            "weighted avg       0.77      0.78      0.75      6725\n",
            "\n"
          ]
        },
        {
          "output_type": "stream",
          "name": "stderr",
          "text": [
            "/usr/local/lib/python3.8/dist-packages/sklearn/metrics/_classification.py:1318: UndefinedMetricWarning: Precision and F-score are ill-defined and being set to 0.0 in labels with no predicted samples. Use `zero_division` parameter to control this behavior.\n",
            "  _warn_prf(average, modifier, msg_start, len(result))\n",
            "/usr/local/lib/python3.8/dist-packages/sklearn/metrics/_classification.py:1318: UndefinedMetricWarning: Precision and F-score are ill-defined and being set to 0.0 in labels with no predicted samples. Use `zero_division` parameter to control this behavior.\n",
            "  _warn_prf(average, modifier, msg_start, len(result))\n",
            "/usr/local/lib/python3.8/dist-packages/sklearn/metrics/_classification.py:1318: UndefinedMetricWarning: Precision and F-score are ill-defined and being set to 0.0 in labels with no predicted samples. Use `zero_division` parameter to control this behavior.\n",
            "  _warn_prf(average, modifier, msg_start, len(result))\n"
          ]
        }
      ]
    },
    {
      "cell_type": "code",
      "source": [
        "from sklearn.neighbors import KNeighborsClassifier\n",
        "knn_model = KNeighborsClassifier(n_neighbors=1)"
      ],
      "metadata": {
        "id": "3I7PJxG7D87I"
      },
      "execution_count": null,
      "outputs": []
    },
    {
      "cell_type": "code",
      "source": [
        "knn_model.fit(scaled_X_train,y_train)"
      ],
      "metadata": {
        "colab": {
          "base_uri": "https://localhost:8080/"
        },
        "id": "Vk_Aygp7EBhz",
        "outputId": "d76c815f-56db-47c6-8268-55d26be156f5"
      },
      "execution_count": null,
      "outputs": [
        {
          "output_type": "execute_result",
          "data": {
            "text/plain": [
              "KNeighborsClassifier(n_neighbors=1)"
            ]
          },
          "metadata": {},
          "execution_count": 64
        }
      ]
    },
    {
      "cell_type": "code",
      "source": [
        "knn_preds=knn_model.predict(scaled_X_test)"
      ],
      "metadata": {
        "id": "L-lI0D6SEJ8S"
      },
      "execution_count": null,
      "outputs": []
    },
    {
      "cell_type": "code",
      "source": [
        "accuracy = accuracy_score(y_test, knn_preds) * 100\n",
        "accuracy"
      ],
      "metadata": {
        "colab": {
          "base_uri": "https://localhost:8080/"
        },
        "id": "3SozlohZEN8T",
        "outputId": "72dcaefb-697f-49f0-bbd9-a67a0bcd11b7"
      },
      "execution_count": null,
      "outputs": [
        {
          "output_type": "execute_result",
          "data": {
            "text/plain": [
              "74.51301115241635"
            ]
          },
          "metadata": {},
          "execution_count": 66
        }
      ]
    },
    {
      "cell_type": "code",
      "source": [
        "from sklearn.ensemble import RandomForestClassifier\n"
      ],
      "metadata": {
        "id": "prfNyfaE49vs"
      },
      "execution_count": null,
      "outputs": []
    },
    {
      "cell_type": "code",
      "source": [
        "rf_model = RandomForestClassifier(n_estimators=10,max_features='auto',random_state=101)"
      ],
      "metadata": {
        "id": "BL74HLwc5TWZ"
      },
      "execution_count": null,
      "outputs": []
    },
    {
      "cell_type": "code",
      "source": [
        "rf_model.fit(scaled_X_train,y_train)"
      ],
      "metadata": {
        "colab": {
          "base_uri": "https://localhost:8080/"
        },
        "id": "LjTD9ctp5YXK",
        "outputId": "b6908a3f-5ae5-4082-87a8-1bda2cbc79e4"
      },
      "execution_count": null,
      "outputs": [
        {
          "output_type": "execute_result",
          "data": {
            "text/plain": [
              "RandomForestClassifier(n_estimators=10, random_state=101)"
            ]
          },
          "metadata": {},
          "execution_count": 136
        }
      ]
    },
    {
      "cell_type": "code",
      "source": [
        "rf_preds= rf_model.predict(scaled_X_test)"
      ],
      "metadata": {
        "id": "6SJLIQN15e2d"
      },
      "execution_count": null,
      "outputs": []
    },
    {
      "cell_type": "code",
      "source": [
        "accuracy = accuracy_score(y_test, rf_preds) * 100\n",
        "accuracy"
      ],
      "metadata": {
        "colab": {
          "base_uri": "https://localhost:8080/"
        },
        "id": "ON2A-Jvh5ltW",
        "outputId": "0d9bd1d1-05eb-45b8-99f0-5e3089b4dd60"
      },
      "execution_count": null,
      "outputs": [
        {
          "output_type": "execute_result",
          "data": {
            "text/plain": [
              "81.02602230483271"
            ]
          },
          "metadata": {},
          "execution_count": 138
        }
      ]
    },
    {
      "cell_type": "code",
      "source": [
        "scaled_X_test[0]"
      ],
      "metadata": {
        "colab": {
          "base_uri": "https://localhost:8080/"
        },
        "id": "llnfQxHUE5cI",
        "outputId": "4d8c4995-8da9-44d7-e8bb-2a3d48e67f1e"
      },
      "execution_count": null,
      "outputs": [
        {
          "output_type": "execute_result",
          "data": {
            "text/plain": [
              "array([-0.52122551, -0.2099452 , -0.67603321, -0.5148109 , -0.5021713 ,\n",
              "       -0.44622536, -1.44401195,  0.        , -0.53392411, -0.53198765,\n",
              "       -0.52999103, -0.53268229, -0.52790282, -0.53147784, -0.53346887,\n",
              "       -0.13507562, -0.29383594, -0.06767549, -0.18621358, -0.28492576,\n",
              "        0.10758826, -0.1485523 ,  0.22901074,  0.032722  ,  0.25837508,\n",
              "       -0.09791182,  0.10966347])"
            ]
          },
          "metadata": {},
          "execution_count": 67
        }
      ]
    },
    {
      "cell_type": "code",
      "source": [
        "X_test.iloc[1010]"
      ],
      "metadata": {
        "colab": {
          "base_uri": "https://localhost:8080/"
        },
        "id": "mS1Q1TF3F-HV",
        "outputId": "be50ce5a-88e5-4871-cd21-344190d44f43"
      },
      "execution_count": null,
      "outputs": [
        {
          "output_type": "execute_result",
          "data": {
            "text/plain": [
              "activePower         344.000\n",
              "activePowerDelta     90.000\n",
              "reactivePower       155.000\n",
              "apparentPower       416.000\n",
              "current               1.828\n",
              "voltage             227.735\n",
              "phase                23.900\n",
              "hertz                60.000\n",
              "transient1            1.821\n",
              "transient2            1.806\n",
              "transient3            1.793\n",
              "transient4            1.852\n",
              "transient5            1.923\n",
              "transient6            1.778\n",
              "transient7            1.844\n",
              "transient8            1.851\n",
              "transient9            1.816\n",
              "transient10           1.857\n",
              "harmonicDelta1      768.000\n",
              "harmonicDelta2       18.000\n",
              "harmonicDelta3      584.000\n",
              "harmonicDelta4       29.000\n",
              "harmonicDelta5      405.000\n",
              "harmonicDelta6        3.000\n",
              "harmonicDelta7      232.000\n",
              "harmonicDelta8        1.000\n",
              "harmonicDelta9       92.000\n",
              "Name: 40505, dtype: float64"
            ]
          },
          "metadata": {},
          "execution_count": 70
        }
      ]
    },
    {
      "cell_type": "code",
      "source": [
        "y_test[1010]"
      ],
      "metadata": {
        "colab": {
          "base_uri": "https://localhost:8080/"
        },
        "id": "aHUy8gS7GB3o",
        "outputId": "9987eec8-ea1f-45d8-dacc-b44ef174e9a0"
      },
      "execution_count": null,
      "outputs": [
        {
          "output_type": "execute_result",
          "data": {
            "text/plain": [
              "21"
            ]
          },
          "metadata": {},
          "execution_count": 67
        }
      ]
    },
    {
      "cell_type": "code",
      "source": [
        "predicted_new=xgb_clf.predict(X_test.iloc[1010])[0]\n",
        "print(predicted_new)\n",
        "list(mydict.keys())[predicted_new]"
      ],
      "metadata": {
        "colab": {
          "base_uri": "https://localhost:8080/",
          "height": 52
        },
        "id": "No4LWACUTPUW",
        "outputId": "d53605aa-b0d5-4ba2-929b-df5d69d75548"
      },
      "execution_count": null,
      "outputs": [
        {
          "output_type": "stream",
          "name": "stdout",
          "text": [
            "21\n"
          ]
        },
        {
          "output_type": "execute_result",
          "data": {
            "text/plain": [
              "'+fridge+washing_machine+washer_dryer'"
            ],
            "application/vnd.google.colaboratory.intrinsic+json": {
              "type": "string"
            }
          },
          "metadata": {},
          "execution_count": 71
        }
      ]
    },
    {
      "cell_type": "code",
      "source": [
        "df_mon=pd.read_csv(\"/content/esda-nilm-2022/vw_test.csv\")\n",
        "df_mon.head()"
      ],
      "metadata": {
        "colab": {
          "base_uri": "https://localhost:8080/",
          "height": 384
        },
        "id": "9yfWDUBAs4nk",
        "outputId": "5d217bba-f0fd-4073-9c5d-6b56921a9be2"
      },
      "execution_count": null,
      "outputs": [
        {
          "output_type": "execute_result",
          "data": {
            "text/plain": [
              "   Unnamed: 0        id  activePower  activePowerDelta  reactivePower  \\\n",
              "0           1  74589930           78                -2            -38   \n",
              "1          20  74575788           44                 1            -21   \n",
              "2          32  74564692          241                 1             99   \n",
              "3          33  74563613          248               -19            100   \n",
              "4          50  74545502          185               119            134   \n",
              "\n",
              "   apparentPower  current  voltage  phase  hertz  ...  harmonicDelta1  \\\n",
              "0            126    0.567  223.389  -25.6     60  ...              90   \n",
              "1             64    0.288  223.389  -25.6     60  ...              39   \n",
              "2            304    1.386  219.912   22.1     60  ...             165   \n",
              "3            314    1.423  220.781   21.7     60  ...             397   \n",
              "4            236    1.067  221.651   35.5     60  ...            1285   \n",
              "\n",
              "   harmonicDelta2  harmonicDelta3  harmonicDelta4  harmonicDelta5  \\\n",
              "0               6             151              13             145   \n",
              "1               3              75               8              36   \n",
              "2              26             178              11             212   \n",
              "3              14             412              14             453   \n",
              "4               3              95               0              62   \n",
              "\n",
              "   harmonicDelta6  harmonicDelta7  harmonicDelta8  harmonicDelta9  \\\n",
              "0               9             127              14             148   \n",
              "1               4              44               1              54   \n",
              "2              14             221              21             240   \n",
              "3              19             463              23             471   \n",
              "4               0              33               0              26   \n",
              "\n",
              "              timestamp  \n",
              "0  2018-01-21T23:58:08Z  \n",
              "1  2018-01-21T23:17:09Z  \n",
              "2  2018-01-21T22:48:50Z  \n",
              "3  2018-01-21T22:46:10Z  \n",
              "4  2018-01-21T22:07:04Z  \n",
              "\n",
              "[5 rows x 30 columns]"
            ],
            "text/html": [
              "\n",
              "  <div id=\"df-ebc4de5c-eb4c-4ee6-b803-5cb75b26a413\">\n",
              "    <div class=\"colab-df-container\">\n",
              "      <div>\n",
              "<style scoped>\n",
              "    .dataframe tbody tr th:only-of-type {\n",
              "        vertical-align: middle;\n",
              "    }\n",
              "\n",
              "    .dataframe tbody tr th {\n",
              "        vertical-align: top;\n",
              "    }\n",
              "\n",
              "    .dataframe thead th {\n",
              "        text-align: right;\n",
              "    }\n",
              "</style>\n",
              "<table border=\"1\" class=\"dataframe\">\n",
              "  <thead>\n",
              "    <tr style=\"text-align: right;\">\n",
              "      <th></th>\n",
              "      <th>Unnamed: 0</th>\n",
              "      <th>id</th>\n",
              "      <th>activePower</th>\n",
              "      <th>activePowerDelta</th>\n",
              "      <th>reactivePower</th>\n",
              "      <th>apparentPower</th>\n",
              "      <th>current</th>\n",
              "      <th>voltage</th>\n",
              "      <th>phase</th>\n",
              "      <th>hertz</th>\n",
              "      <th>...</th>\n",
              "      <th>harmonicDelta1</th>\n",
              "      <th>harmonicDelta2</th>\n",
              "      <th>harmonicDelta3</th>\n",
              "      <th>harmonicDelta4</th>\n",
              "      <th>harmonicDelta5</th>\n",
              "      <th>harmonicDelta6</th>\n",
              "      <th>harmonicDelta7</th>\n",
              "      <th>harmonicDelta8</th>\n",
              "      <th>harmonicDelta9</th>\n",
              "      <th>timestamp</th>\n",
              "    </tr>\n",
              "  </thead>\n",
              "  <tbody>\n",
              "    <tr>\n",
              "      <th>0</th>\n",
              "      <td>1</td>\n",
              "      <td>74589930</td>\n",
              "      <td>78</td>\n",
              "      <td>-2</td>\n",
              "      <td>-38</td>\n",
              "      <td>126</td>\n",
              "      <td>0.567</td>\n",
              "      <td>223.389</td>\n",
              "      <td>-25.6</td>\n",
              "      <td>60</td>\n",
              "      <td>...</td>\n",
              "      <td>90</td>\n",
              "      <td>6</td>\n",
              "      <td>151</td>\n",
              "      <td>13</td>\n",
              "      <td>145</td>\n",
              "      <td>9</td>\n",
              "      <td>127</td>\n",
              "      <td>14</td>\n",
              "      <td>148</td>\n",
              "      <td>2018-01-21T23:58:08Z</td>\n",
              "    </tr>\n",
              "    <tr>\n",
              "      <th>1</th>\n",
              "      <td>20</td>\n",
              "      <td>74575788</td>\n",
              "      <td>44</td>\n",
              "      <td>1</td>\n",
              "      <td>-21</td>\n",
              "      <td>64</td>\n",
              "      <td>0.288</td>\n",
              "      <td>223.389</td>\n",
              "      <td>-25.6</td>\n",
              "      <td>60</td>\n",
              "      <td>...</td>\n",
              "      <td>39</td>\n",
              "      <td>3</td>\n",
              "      <td>75</td>\n",
              "      <td>8</td>\n",
              "      <td>36</td>\n",
              "      <td>4</td>\n",
              "      <td>44</td>\n",
              "      <td>1</td>\n",
              "      <td>54</td>\n",
              "      <td>2018-01-21T23:17:09Z</td>\n",
              "    </tr>\n",
              "    <tr>\n",
              "      <th>2</th>\n",
              "      <td>32</td>\n",
              "      <td>74564692</td>\n",
              "      <td>241</td>\n",
              "      <td>1</td>\n",
              "      <td>99</td>\n",
              "      <td>304</td>\n",
              "      <td>1.386</td>\n",
              "      <td>219.912</td>\n",
              "      <td>22.1</td>\n",
              "      <td>60</td>\n",
              "      <td>...</td>\n",
              "      <td>165</td>\n",
              "      <td>26</td>\n",
              "      <td>178</td>\n",
              "      <td>11</td>\n",
              "      <td>212</td>\n",
              "      <td>14</td>\n",
              "      <td>221</td>\n",
              "      <td>21</td>\n",
              "      <td>240</td>\n",
              "      <td>2018-01-21T22:48:50Z</td>\n",
              "    </tr>\n",
              "    <tr>\n",
              "      <th>3</th>\n",
              "      <td>33</td>\n",
              "      <td>74563613</td>\n",
              "      <td>248</td>\n",
              "      <td>-19</td>\n",
              "      <td>100</td>\n",
              "      <td>314</td>\n",
              "      <td>1.423</td>\n",
              "      <td>220.781</td>\n",
              "      <td>21.7</td>\n",
              "      <td>60</td>\n",
              "      <td>...</td>\n",
              "      <td>397</td>\n",
              "      <td>14</td>\n",
              "      <td>412</td>\n",
              "      <td>14</td>\n",
              "      <td>453</td>\n",
              "      <td>19</td>\n",
              "      <td>463</td>\n",
              "      <td>23</td>\n",
              "      <td>471</td>\n",
              "      <td>2018-01-21T22:46:10Z</td>\n",
              "    </tr>\n",
              "    <tr>\n",
              "      <th>4</th>\n",
              "      <td>50</td>\n",
              "      <td>74545502</td>\n",
              "      <td>185</td>\n",
              "      <td>119</td>\n",
              "      <td>134</td>\n",
              "      <td>236</td>\n",
              "      <td>1.067</td>\n",
              "      <td>221.651</td>\n",
              "      <td>35.5</td>\n",
              "      <td>60</td>\n",
              "      <td>...</td>\n",
              "      <td>1285</td>\n",
              "      <td>3</td>\n",
              "      <td>95</td>\n",
              "      <td>0</td>\n",
              "      <td>62</td>\n",
              "      <td>0</td>\n",
              "      <td>33</td>\n",
              "      <td>0</td>\n",
              "      <td>26</td>\n",
              "      <td>2018-01-21T22:07:04Z</td>\n",
              "    </tr>\n",
              "  </tbody>\n",
              "</table>\n",
              "<p>5 rows × 30 columns</p>\n",
              "</div>\n",
              "      <button class=\"colab-df-convert\" onclick=\"convertToInteractive('df-ebc4de5c-eb4c-4ee6-b803-5cb75b26a413')\"\n",
              "              title=\"Convert this dataframe to an interactive table.\"\n",
              "              style=\"display:none;\">\n",
              "        \n",
              "  <svg xmlns=\"http://www.w3.org/2000/svg\" height=\"24px\"viewBox=\"0 0 24 24\"\n",
              "       width=\"24px\">\n",
              "    <path d=\"M0 0h24v24H0V0z\" fill=\"none\"/>\n",
              "    <path d=\"M18.56 5.44l.94 2.06.94-2.06 2.06-.94-2.06-.94-.94-2.06-.94 2.06-2.06.94zm-11 1L8.5 8.5l.94-2.06 2.06-.94-2.06-.94L8.5 2.5l-.94 2.06-2.06.94zm10 10l.94 2.06.94-2.06 2.06-.94-2.06-.94-.94-2.06-.94 2.06-2.06.94z\"/><path d=\"M17.41 7.96l-1.37-1.37c-.4-.4-.92-.59-1.43-.59-.52 0-1.04.2-1.43.59L10.3 9.45l-7.72 7.72c-.78.78-.78 2.05 0 2.83L4 21.41c.39.39.9.59 1.41.59.51 0 1.02-.2 1.41-.59l7.78-7.78 2.81-2.81c.8-.78.8-2.07 0-2.86zM5.41 20L4 18.59l7.72-7.72 1.47 1.35L5.41 20z\"/>\n",
              "  </svg>\n",
              "      </button>\n",
              "      \n",
              "  <style>\n",
              "    .colab-df-container {\n",
              "      display:flex;\n",
              "      flex-wrap:wrap;\n",
              "      gap: 12px;\n",
              "    }\n",
              "\n",
              "    .colab-df-convert {\n",
              "      background-color: #E8F0FE;\n",
              "      border: none;\n",
              "      border-radius: 50%;\n",
              "      cursor: pointer;\n",
              "      display: none;\n",
              "      fill: #1967D2;\n",
              "      height: 32px;\n",
              "      padding: 0 0 0 0;\n",
              "      width: 32px;\n",
              "    }\n",
              "\n",
              "    .colab-df-convert:hover {\n",
              "      background-color: #E2EBFA;\n",
              "      box-shadow: 0px 1px 2px rgba(60, 64, 67, 0.3), 0px 1px 3px 1px rgba(60, 64, 67, 0.15);\n",
              "      fill: #174EA6;\n",
              "    }\n",
              "\n",
              "    [theme=dark] .colab-df-convert {\n",
              "      background-color: #3B4455;\n",
              "      fill: #D2E3FC;\n",
              "    }\n",
              "\n",
              "    [theme=dark] .colab-df-convert:hover {\n",
              "      background-color: #434B5C;\n",
              "      box-shadow: 0px 1px 3px 1px rgba(0, 0, 0, 0.15);\n",
              "      filter: drop-shadow(0px 1px 2px rgba(0, 0, 0, 0.3));\n",
              "      fill: #FFFFFF;\n",
              "    }\n",
              "  </style>\n",
              "\n",
              "      <script>\n",
              "        const buttonEl =\n",
              "          document.querySelector('#df-ebc4de5c-eb4c-4ee6-b803-5cb75b26a413 button.colab-df-convert');\n",
              "        buttonEl.style.display =\n",
              "          google.colab.kernel.accessAllowed ? 'block' : 'none';\n",
              "\n",
              "        async function convertToInteractive(key) {\n",
              "          const element = document.querySelector('#df-ebc4de5c-eb4c-4ee6-b803-5cb75b26a413');\n",
              "          const dataTable =\n",
              "            await google.colab.kernel.invokeFunction('convertToInteractive',\n",
              "                                                     [key], {});\n",
              "          if (!dataTable) return;\n",
              "\n",
              "          const docLinkHtml = 'Like what you see? Visit the ' +\n",
              "            '<a target=\"_blank\" href=https://colab.research.google.com/notebooks/data_table.ipynb>data table notebook</a>'\n",
              "            + ' to learn more about interactive tables.';\n",
              "          element.innerHTML = '';\n",
              "          dataTable['output_type'] = 'display_data';\n",
              "          await google.colab.output.renderOutput(dataTable, element);\n",
              "          const docLink = document.createElement('div');\n",
              "          docLink.innerHTML = docLinkHtml;\n",
              "          element.appendChild(docLink);\n",
              "        }\n",
              "      </script>\n",
              "    </div>\n",
              "  </div>\n",
              "  "
            ]
          },
          "metadata": {},
          "execution_count": 72
        }
      ]
    },
    {
      "cell_type": "code",
      "source": [
        "df_mon=df_mon.drop(\"Unnamed: 0\",axis=1)\n",
        "df_mon=df_mon.drop(\"id\",axis=1)\n",
        "df_mon=df_mon.drop(\"timestamp\",axis=1)"
      ],
      "metadata": {
        "id": "TrppPHtfs_Tf"
      },
      "execution_count": null,
      "outputs": []
    },
    {
      "cell_type": "code",
      "source": [
        "df_mon.head()"
      ],
      "metadata": {
        "colab": {
          "base_uri": "https://localhost:8080/",
          "height": 280
        },
        "id": "t8IollwFtSdK",
        "outputId": "ea03ca3f-a0db-4fd7-9e27-0fefd9f8a2f1"
      },
      "execution_count": null,
      "outputs": [
        {
          "output_type": "execute_result",
          "data": {
            "text/plain": [
              "   activePower  activePowerDelta  reactivePower  apparentPower  current  \\\n",
              "0           78                -2            -38            126    0.567   \n",
              "1           44                 1            -21             64    0.288   \n",
              "2          241                 1             99            304    1.386   \n",
              "3          248               -19            100            314    1.423   \n",
              "4          185               119            134            236    1.067   \n",
              "\n",
              "   voltage  phase  hertz  transient1  transient2  ...  transient10  \\\n",
              "0  223.389  -25.6     60       0.567       0.567  ...        0.567   \n",
              "1  223.389  -25.6     60       0.288       0.288  ...        0.288   \n",
              "2  219.912   22.1     60       1.386       1.386  ...        1.386   \n",
              "3  220.781   21.7     60       1.423       1.423  ...        1.423   \n",
              "4  221.651   35.5     60      10.335      10.342  ...        8.094   \n",
              "\n",
              "   harmonicDelta1  harmonicDelta2  harmonicDelta3  harmonicDelta4  \\\n",
              "0              90               6             151              13   \n",
              "1              39               3              75               8   \n",
              "2             165              26             178              11   \n",
              "3             397              14             412              14   \n",
              "4            1285               3              95               0   \n",
              "\n",
              "   harmonicDelta5  harmonicDelta6  harmonicDelta7  harmonicDelta8  \\\n",
              "0             145               9             127              14   \n",
              "1              36               4              44               1   \n",
              "2             212              14             221              21   \n",
              "3             453              19             463              23   \n",
              "4              62               0              33               0   \n",
              "\n",
              "   harmonicDelta9  \n",
              "0             148  \n",
              "1              54  \n",
              "2             240  \n",
              "3             471  \n",
              "4              26  \n",
              "\n",
              "[5 rows x 27 columns]"
            ],
            "text/html": [
              "\n",
              "  <div id=\"df-f7127f4b-9a69-428d-a792-3c1644c4b581\">\n",
              "    <div class=\"colab-df-container\">\n",
              "      <div>\n",
              "<style scoped>\n",
              "    .dataframe tbody tr th:only-of-type {\n",
              "        vertical-align: middle;\n",
              "    }\n",
              "\n",
              "    .dataframe tbody tr th {\n",
              "        vertical-align: top;\n",
              "    }\n",
              "\n",
              "    .dataframe thead th {\n",
              "        text-align: right;\n",
              "    }\n",
              "</style>\n",
              "<table border=\"1\" class=\"dataframe\">\n",
              "  <thead>\n",
              "    <tr style=\"text-align: right;\">\n",
              "      <th></th>\n",
              "      <th>activePower</th>\n",
              "      <th>activePowerDelta</th>\n",
              "      <th>reactivePower</th>\n",
              "      <th>apparentPower</th>\n",
              "      <th>current</th>\n",
              "      <th>voltage</th>\n",
              "      <th>phase</th>\n",
              "      <th>hertz</th>\n",
              "      <th>transient1</th>\n",
              "      <th>transient2</th>\n",
              "      <th>...</th>\n",
              "      <th>transient10</th>\n",
              "      <th>harmonicDelta1</th>\n",
              "      <th>harmonicDelta2</th>\n",
              "      <th>harmonicDelta3</th>\n",
              "      <th>harmonicDelta4</th>\n",
              "      <th>harmonicDelta5</th>\n",
              "      <th>harmonicDelta6</th>\n",
              "      <th>harmonicDelta7</th>\n",
              "      <th>harmonicDelta8</th>\n",
              "      <th>harmonicDelta9</th>\n",
              "    </tr>\n",
              "  </thead>\n",
              "  <tbody>\n",
              "    <tr>\n",
              "      <th>0</th>\n",
              "      <td>78</td>\n",
              "      <td>-2</td>\n",
              "      <td>-38</td>\n",
              "      <td>126</td>\n",
              "      <td>0.567</td>\n",
              "      <td>223.389</td>\n",
              "      <td>-25.6</td>\n",
              "      <td>60</td>\n",
              "      <td>0.567</td>\n",
              "      <td>0.567</td>\n",
              "      <td>...</td>\n",
              "      <td>0.567</td>\n",
              "      <td>90</td>\n",
              "      <td>6</td>\n",
              "      <td>151</td>\n",
              "      <td>13</td>\n",
              "      <td>145</td>\n",
              "      <td>9</td>\n",
              "      <td>127</td>\n",
              "      <td>14</td>\n",
              "      <td>148</td>\n",
              "    </tr>\n",
              "    <tr>\n",
              "      <th>1</th>\n",
              "      <td>44</td>\n",
              "      <td>1</td>\n",
              "      <td>-21</td>\n",
              "      <td>64</td>\n",
              "      <td>0.288</td>\n",
              "      <td>223.389</td>\n",
              "      <td>-25.6</td>\n",
              "      <td>60</td>\n",
              "      <td>0.288</td>\n",
              "      <td>0.288</td>\n",
              "      <td>...</td>\n",
              "      <td>0.288</td>\n",
              "      <td>39</td>\n",
              "      <td>3</td>\n",
              "      <td>75</td>\n",
              "      <td>8</td>\n",
              "      <td>36</td>\n",
              "      <td>4</td>\n",
              "      <td>44</td>\n",
              "      <td>1</td>\n",
              "      <td>54</td>\n",
              "    </tr>\n",
              "    <tr>\n",
              "      <th>2</th>\n",
              "      <td>241</td>\n",
              "      <td>1</td>\n",
              "      <td>99</td>\n",
              "      <td>304</td>\n",
              "      <td>1.386</td>\n",
              "      <td>219.912</td>\n",
              "      <td>22.1</td>\n",
              "      <td>60</td>\n",
              "      <td>1.386</td>\n",
              "      <td>1.386</td>\n",
              "      <td>...</td>\n",
              "      <td>1.386</td>\n",
              "      <td>165</td>\n",
              "      <td>26</td>\n",
              "      <td>178</td>\n",
              "      <td>11</td>\n",
              "      <td>212</td>\n",
              "      <td>14</td>\n",
              "      <td>221</td>\n",
              "      <td>21</td>\n",
              "      <td>240</td>\n",
              "    </tr>\n",
              "    <tr>\n",
              "      <th>3</th>\n",
              "      <td>248</td>\n",
              "      <td>-19</td>\n",
              "      <td>100</td>\n",
              "      <td>314</td>\n",
              "      <td>1.423</td>\n",
              "      <td>220.781</td>\n",
              "      <td>21.7</td>\n",
              "      <td>60</td>\n",
              "      <td>1.423</td>\n",
              "      <td>1.423</td>\n",
              "      <td>...</td>\n",
              "      <td>1.423</td>\n",
              "      <td>397</td>\n",
              "      <td>14</td>\n",
              "      <td>412</td>\n",
              "      <td>14</td>\n",
              "      <td>453</td>\n",
              "      <td>19</td>\n",
              "      <td>463</td>\n",
              "      <td>23</td>\n",
              "      <td>471</td>\n",
              "    </tr>\n",
              "    <tr>\n",
              "      <th>4</th>\n",
              "      <td>185</td>\n",
              "      <td>119</td>\n",
              "      <td>134</td>\n",
              "      <td>236</td>\n",
              "      <td>1.067</td>\n",
              "      <td>221.651</td>\n",
              "      <td>35.5</td>\n",
              "      <td>60</td>\n",
              "      <td>10.335</td>\n",
              "      <td>10.342</td>\n",
              "      <td>...</td>\n",
              "      <td>8.094</td>\n",
              "      <td>1285</td>\n",
              "      <td>3</td>\n",
              "      <td>95</td>\n",
              "      <td>0</td>\n",
              "      <td>62</td>\n",
              "      <td>0</td>\n",
              "      <td>33</td>\n",
              "      <td>0</td>\n",
              "      <td>26</td>\n",
              "    </tr>\n",
              "  </tbody>\n",
              "</table>\n",
              "<p>5 rows × 27 columns</p>\n",
              "</div>\n",
              "      <button class=\"colab-df-convert\" onclick=\"convertToInteractive('df-f7127f4b-9a69-428d-a792-3c1644c4b581')\"\n",
              "              title=\"Convert this dataframe to an interactive table.\"\n",
              "              style=\"display:none;\">\n",
              "        \n",
              "  <svg xmlns=\"http://www.w3.org/2000/svg\" height=\"24px\"viewBox=\"0 0 24 24\"\n",
              "       width=\"24px\">\n",
              "    <path d=\"M0 0h24v24H0V0z\" fill=\"none\"/>\n",
              "    <path d=\"M18.56 5.44l.94 2.06.94-2.06 2.06-.94-2.06-.94-.94-2.06-.94 2.06-2.06.94zm-11 1L8.5 8.5l.94-2.06 2.06-.94-2.06-.94L8.5 2.5l-.94 2.06-2.06.94zm10 10l.94 2.06.94-2.06 2.06-.94-2.06-.94-.94-2.06-.94 2.06-2.06.94z\"/><path d=\"M17.41 7.96l-1.37-1.37c-.4-.4-.92-.59-1.43-.59-.52 0-1.04.2-1.43.59L10.3 9.45l-7.72 7.72c-.78.78-.78 2.05 0 2.83L4 21.41c.39.39.9.59 1.41.59.51 0 1.02-.2 1.41-.59l7.78-7.78 2.81-2.81c.8-.78.8-2.07 0-2.86zM5.41 20L4 18.59l7.72-7.72 1.47 1.35L5.41 20z\"/>\n",
              "  </svg>\n",
              "      </button>\n",
              "      \n",
              "  <style>\n",
              "    .colab-df-container {\n",
              "      display:flex;\n",
              "      flex-wrap:wrap;\n",
              "      gap: 12px;\n",
              "    }\n",
              "\n",
              "    .colab-df-convert {\n",
              "      background-color: #E8F0FE;\n",
              "      border: none;\n",
              "      border-radius: 50%;\n",
              "      cursor: pointer;\n",
              "      display: none;\n",
              "      fill: #1967D2;\n",
              "      height: 32px;\n",
              "      padding: 0 0 0 0;\n",
              "      width: 32px;\n",
              "    }\n",
              "\n",
              "    .colab-df-convert:hover {\n",
              "      background-color: #E2EBFA;\n",
              "      box-shadow: 0px 1px 2px rgba(60, 64, 67, 0.3), 0px 1px 3px 1px rgba(60, 64, 67, 0.15);\n",
              "      fill: #174EA6;\n",
              "    }\n",
              "\n",
              "    [theme=dark] .colab-df-convert {\n",
              "      background-color: #3B4455;\n",
              "      fill: #D2E3FC;\n",
              "    }\n",
              "\n",
              "    [theme=dark] .colab-df-convert:hover {\n",
              "      background-color: #434B5C;\n",
              "      box-shadow: 0px 1px 3px 1px rgba(0, 0, 0, 0.15);\n",
              "      filter: drop-shadow(0px 1px 2px rgba(0, 0, 0, 0.3));\n",
              "      fill: #FFFFFF;\n",
              "    }\n",
              "  </style>\n",
              "\n",
              "      <script>\n",
              "        const buttonEl =\n",
              "          document.querySelector('#df-f7127f4b-9a69-428d-a792-3c1644c4b581 button.colab-df-convert');\n",
              "        buttonEl.style.display =\n",
              "          google.colab.kernel.accessAllowed ? 'block' : 'none';\n",
              "\n",
              "        async function convertToInteractive(key) {\n",
              "          const element = document.querySelector('#df-f7127f4b-9a69-428d-a792-3c1644c4b581');\n",
              "          const dataTable =\n",
              "            await google.colab.kernel.invokeFunction('convertToInteractive',\n",
              "                                                     [key], {});\n",
              "          if (!dataTable) return;\n",
              "\n",
              "          const docLinkHtml = 'Like what you see? Visit the ' +\n",
              "            '<a target=\"_blank\" href=https://colab.research.google.com/notebooks/data_table.ipynb>data table notebook</a>'\n",
              "            + ' to learn more about interactive tables.';\n",
              "          element.innerHTML = '';\n",
              "          dataTable['output_type'] = 'display_data';\n",
              "          await google.colab.output.renderOutput(dataTable, element);\n",
              "          const docLink = document.createElement('div');\n",
              "          docLink.innerHTML = docLinkHtml;\n",
              "          element.appendChild(docLink);\n",
              "        }\n",
              "      </script>\n",
              "    </div>\n",
              "  </div>\n",
              "  "
            ]
          },
          "metadata": {},
          "execution_count": 76
        }
      ]
    },
    {
      "cell_type": "code",
      "source": [
        "df_mon.shape"
      ],
      "metadata": {
        "colab": {
          "base_uri": "https://localhost:8080/"
        },
        "id": "wNdec2jotVvW",
        "outputId": "c7119d88-c88a-4973-f677-4a004ea8788a"
      },
      "execution_count": null,
      "outputs": [
        {
          "output_type": "execute_result",
          "data": {
            "text/plain": [
              "(16816, 27)"
            ]
          },
          "metadata": {},
          "execution_count": 78
        }
      ]
    },
    {
      "cell_type": "code",
      "source": [
        "def nilm(u,l,col):\n",
        "\n",
        "\n",
        "  y = df_mon[col][l:u]\n",
        "  x = np.arange(0,u-l)\n",
        "  # Use the model to predict the appliances for the first 1500 rows\n",
        "  predictionss = xgb_clf.predict(df_mon[l:u].values)\n",
        "\n",
        "  # Get a colormap to use for the points\n",
        "  cmap = plt.get_cmap('tab10')\n",
        "\n",
        "  # Create a list of class names corresponding to the colors in the plot\n",
        "  class_names = [key for key in mydict]\n",
        "\n",
        "  # Initialize the starting index and the current prediction\n",
        "  start_index = 0\n",
        "  current_prediction = predictionss[0]\n",
        "  plt.figure(figsize=(20,10),dpi=100)\n",
        "\n",
        "  # Create lists to store the handles and labels for the legend\n",
        "  handles = []\n",
        "  labels = []\n",
        "\n",
        "  # Create a set to store the colors that have been used\n",
        "  used_colors = set()\n",
        "\n",
        "  for i in range(1, len(predictionss)):\n",
        "      # If the prediction changes, plot the segment of the curve up to this point with the current color\n",
        "      if predictionss[i] != current_prediction:\n",
        "          # Get the color for the current curve\n",
        "          color = cmap(current_prediction / 25)\n",
        "          # Check if the color has already been used\n",
        "          if color not in used_colors:\n",
        "              # If the color has not been used, create a line object for the current curve\n",
        "              line, = plt.plot(x[start_index:i], y[start_index:i], c=color)\n",
        "              # Add the handle and label for the line object to the lists\n",
        "              handles.append(line)\n",
        "              labels.append(class_names[current_prediction])\n",
        "              # Add the color to the set of used colors\n",
        "              used_colors.add(color)\n",
        "          else:\n",
        "              # If the color has already been used, plot the curve without adding it to the legend\n",
        "              plt.plot(x[start_index:i], y[start_index:i], c=color)\n",
        "          # Update the starting index and the current prediction\n",
        "          start_index = i\n",
        "          current_prediction = predictionss[i]\n",
        "\n",
        "  # Plot the final segment of the curve with the current color\n",
        "  color = cmap(current_prediction / 25)\n",
        "  # Check if the color has already been used\n",
        "  if color not in used_colors:\n",
        "      # If the color has not been used, create a line object for the final curve\n",
        "      line, = plt.plot(x[start_index:], y[start_index:], c=color)\n",
        "      # Add the handle and label for the line object to the lists\n",
        "      handles.append(line)\n",
        "      labels.append(class_names[current_prediction])\n",
        "      # Add the color to the set of used colors\n",
        "      used_colors.add(color)\n",
        "  else:\n",
        "      # If the color has already been used, plot the curve without adding it to the legend\n",
        "      plt.plot(x[start_index:], y[start_index:], c=color)\n",
        "\n",
        "  # Add a title and axis labels\n",
        "  plt.title('NILM')\n",
        "  plt.ylabel(col)\n",
        "\n",
        "  # Create a colorbar to show the mapping from prediction class to color\n",
        "  sm = plt.cm.ScalarMappable(cmap=cmap, norm=plt.Normalize(vmin=0, vmax=25))\n",
        "  sm._A = []\n",
        "  cbar = plt.colorbar(sm)\n",
        "\n",
        "  # Add the legend to the plot using the handles and labels lists\n",
        "  plt.legend(handles, labels, loc='best')\n",
        "\n",
        "  # Show the plot\n",
        "  plt.show()\n",
        "\n",
        "\n"
      ],
      "metadata": {
        "id": "oAQhYKl2I0bS"
      },
      "execution_count": null,
      "outputs": []
    },
    {
      "cell_type": "code",
      "source": [
        "nilm(5200,3000,\"voltage\")"
      ],
      "metadata": {
        "colab": {
          "base_uri": "https://localhost:8080/",
          "height": 842
        },
        "id": "7MbrcuRX3XU-",
        "outputId": "b18c2cf5-0784-4c34-f429-e3ad44a1b5be"
      },
      "execution_count": null,
      "outputs": [
        {
          "output_type": "display_data",
          "data": {
            "text/plain": [
              "<Figure size 2000x1000 with 2 Axes>"
            ],
            "image/png": "[encoded data removed]"
          },
          "metadata": {}
        }
      ]
    },
    {
      "cell_type": "code",
      "source": [],
      "metadata": {
        "id": "cl6UxbwV3YjN"
      },
      "execution_count": null,
      "outputs": []
    }
  ]
}